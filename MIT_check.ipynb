{
 "cells": [
  {
   "cell_type": "code",
   "execution_count": 1,
   "id": "13fff192-9a42-4581-a495-1214d5e3078d",
   "metadata": {},
   "outputs": [
    {
     "name": "stderr",
     "output_type": "stream",
     "text": [
      "Processing images: 100%|█████████████████| 15614/15614 [00:18<00:00, 828.50it/s]"
     ]
    },
    {
     "name": "stdout",
     "output_type": "stream",
     "text": [
      "Data split complete!\n",
      "Training images: 5360\n",
      "Validation images: 8914\n",
      "Testing images: 1340\n"
     ]
    },
    {
     "name": "stderr",
     "output_type": "stream",
     "text": [
      "\n"
     ]
    }
   ],
   "source": [
    "import os\n",
    "import shutil\n",
    "from tqdm import tqdm\n",
    "import numpy as np\n",
    "from tensorflow import keras\n",
    "from tensorflow.keras import layers\n",
    "import cv2\n",
    "import zipfile\n",
    "import shutil\n",
    "import random\n",
    "import pandas as pd\n",
    "import csv\n",
    "import os\n",
    "# Paths to data and image lists\n",
    "data_path = '/Users/raghavgarg/Downloads/MIT/indoorCVPR_09/Images/'\n",
    "train_list_path = '/Users/raghavgarg/Downloads/MIT/TrainImages.txt'\n",
    "test_list_path = '/Users/raghavgarg/Downloads/MIT/TestImages.txt'\n",
    "\n",
    "# Output directories\n",
    "output_dir = '/Users/raghavgarg/Downloads/split_data'\n",
    "train_dir = os.path.join(output_dir, 'train')\n",
    "val_dir = os.path.join(output_dir, 'validation')\n",
    "test_dir = os.path.join(output_dir, 'test')\n",
    "\n",
    "# Create directories for train, validation, and test splits\n",
    "for folder in [train_dir, val_dir, test_dir]:\n",
    "    os.makedirs(folder, exist_ok=True)\n",
    "\n",
    "# Read train and test image lists\n",
    "with open(train_list_path, 'r') as file:\n",
    "    train_images = set(file.read().splitlines())\n",
    "\n",
    "with open(test_list_path, 'r') as file:\n",
    "    test_images = set(file.read().splitlines())\n",
    "\n",
    "# Get all available images in the dataset\n",
    "all_images = []\n",
    "for root, _, files in os.walk(data_path):\n",
    "    for file in files:\n",
    "        if file.endswith(('.jpg', '.png')):\n",
    "            all_images.append(os.path.join(root, file))\n",
    "\n",
    "# Initialize counters\n",
    "train_count, val_count, test_count = 0, 0, 0\n",
    "\n",
    "# Copy images to their respective directories\n",
    "for img_path in tqdm(all_images, desc=\"Processing images\"):\n",
    "    # Extract relative image path (folder_name/image_name)\n",
    "    relative_path = os.path.relpath(img_path, data_path).replace(\"\\\\\", \"/\")\n",
    "\n",
    "    # Determine the split (train, test, or validation)\n",
    "    if relative_path in train_images:\n",
    "        dest_dir = train_dir\n",
    "        train_count += 1\n",
    "    elif relative_path in test_images:\n",
    "        dest_dir = test_dir\n",
    "        test_count += 1\n",
    "    else:\n",
    "        dest_dir = val_dir\n",
    "        val_count += 1\n",
    "\n",
    "    # Create subdirectory for the class if it doesn't exist\n",
    "    class_dir = os.path.join(dest_dir, os.path.dirname(relative_path))\n",
    "    os.makedirs(class_dir, exist_ok=True)\n",
    "\n",
    "    # Copy the image\n",
    "    shutil.copy(img_path, os.path.join(class_dir, os.path.basename(img_path)))\n",
    "\n",
    "print(f\"Data split complete!\")\n",
    "print(f\"Training images: {train_count}\")\n",
    "print(f\"Validation images: {val_count}\")\n",
    "print(f\"Testing images: {test_count}\")\n"
   ]
  },
  {
   "cell_type": "code",
   "execution_count": 3,
   "id": "07f82205-9db4-411d-a067-7d74c765816d",
   "metadata": {},
   "outputs": [],
   "source": [
    "import os\n",
    "import shutil\n",
    "from tqdm import tqdm\n",
    "import numpy as np\n",
    "from tensorflow import keras\n",
    "from tensorflow.keras import layers\n",
    "import cv2\n",
    "import zipfile\n",
    "import shutil\n",
    "import random\n",
    "import pandas as pd\n",
    "import csv\n",
    "import os\n",
    "train_dir=\"/Users/raghavgarg/Downloads/split_data/train\"\n",
    "test_dir=\"/Users/raghavgarg/Downloads/split_data/test\""
   ]
  },
  {
   "cell_type": "code",
   "execution_count": 4,
   "id": "5d110dcb-e1d1-4efa-b0ac-8e32efea6a75",
   "metadata": {},
   "outputs": [],
   "source": [
    "\n",
    "#Set data augmentation techniques\n",
    "train_datagen = keras.preprocessing.image.ImageDataGenerator(horizontal_flip=True,vertical_flip=True\n",
    "                                                             ,zoom_range=0.2,rotation_range=360\n",
    "                                                             ,width_shift_range=0.1,height_shift_range=0.1\n",
    "                                                             ,channel_shift_range=50\n",
    "                                                             ,brightness_range=(0,1.2)\n",
    "                                                             ,preprocessing_function=keras.applications.imagenet_utils.preprocess_input)\n",
    "\n",
    "test_datagen = keras.preprocessing.image.ImageDataGenerator(preprocessing_function=keras.applications.imagenet_utils.preprocess_input)\n"
   ]
  },
  {
   "cell_type": "code",
   "execution_count": 5,
   "id": "248ba7b3-4cc5-428b-9a19-50d716b08bce",
   "metadata": {},
   "outputs": [
    {
     "name": "stdout",
     "output_type": "stream",
     "text": [
      "Found 5360 images belonging to 67 classes.\n",
      "Found 1340 images belonging to 67 classes.\n"
     ]
    }
   ],
   "source": [
    "#Create Data augmentation techniques\n",
    "batch_size=15\n",
    "train_generator = train_datagen.flow_from_directory(\n",
    "    train_dir,\n",
    "    target_size=(512, 512),\n",
    "    batch_size=batch_size,\n",
    "    class_mode='categorical',\n",
    "    shuffle=True\n",
    ")\n",
    "validation_generator = test_datagen.flow_from_directory(\n",
    "    test_dir,\n",
    "    target_size=(512, 512),\n",
    "    batch_size=batch_size,\n",
    "    class_mode='categorical',\n",
    "    shuffle=False\n",
    ")"
   ]
  },
  {
   "cell_type": "code",
   "execution_count": 6,
   "id": "b8b984a3-c428-4247-9e6c-9dff42e271eb",
   "metadata": {},
   "outputs": [
    {
     "name": "stdout",
     "output_type": "stream",
     "text": [
      "Metrics will be logged to: /Users/raghavgarg/Downloads/metrics_log.csv\n"
     ]
    }
   ],
   "source": [
    "import keras\n",
    "import tensorflow as tf\n",
    "from sklearn.metrics import confusion_matrix\n",
    "import csv\n",
    "import json\n",
    "import numpy as np\n",
    "import matplotlib.pyplot as plt\n",
    "from keras import backend as K\n",
    "\n",
    "# Helper function to calculate F1 Score, Sensitivity, and Specificity\n",
    "def calculate_metrics(y_true, y_pred):\n",
    "    cm = confusion_matrix(y_true, y_pred)\n",
    "    precisions, recalls, f1_scores, specificities = [], [], [], []\n",
    "\n",
    "    for i in range(cm.shape[0]):\n",
    "        tp = cm[i, i]\n",
    "        fn = cm[i, :].sum() - tp\n",
    "        fp = cm[:, i].sum() - tp\n",
    "        tn = cm.sum() - (tp + fn + fp)\n",
    "\n",
    "        precision = tp / (tp + fp) if (tp + fp) > 0 else 0\n",
    "        recall = tp / (tp + fn) if (tp + fn) > 0 else 0\n",
    "        f1_score = 2 * (precision * recall) / (precision + recall) if (precision + recall) > 0 else 0\n",
    "        specificity = tn / (tn + fp) if (tn + fp) > 0 else 0\n",
    "\n",
    "        precisions.append(precision)\n",
    "        recalls.append(recall)\n",
    "        f1_scores.append(f1_score)\n",
    "        specificities.append(specificity)\n",
    "\n",
    "    return {\n",
    "        'f1_score': np.mean(f1_scores),\n",
    "        'sensitivity': np.mean(recalls),\n",
    "        'specificity': np.mean(specificities)\n",
    "    }\n",
    "\n",
    "# Custom callback to save metrics and checkpoints\n",
    "class SaveMetricsAndCheckpoints(keras.callbacks.Callback):\n",
    "    def __init__(self, validation_data, log_file_path='/kaggle/working/metrics_log.csv', save_interval=10):\n",
    "        super().__init__()\n",
    "        self.validation_data = validation_data\n",
    "        self.log_file_path = log_file_path\n",
    "        self.save_interval = save_interval\n",
    "\n",
    "        # Initialize the CSV file with headers\n",
    "        with open(self.log_file_path, mode='w', newline='') as file:\n",
    "            writer = csv.writer(file)\n",
    "            writer.writerow([\n",
    "                'epoch',\n",
    "                'train_loss', 'train_accuracy', 'train_precision', 'train_recall', \n",
    "                'train_top_1_accuracy', 'train_top_5_accuracy',\n",
    "                'val_loss', 'val_accuracy', 'val_precision', 'val_recall',\n",
    "                'val_top_1_accuracy', 'val_top_5_accuracy',\n",
    "                'f1_score', 'sensitivity', 'specificity'\n",
    "            ])\n",
    "        print(f\"Metrics will be logged to: {self.log_file_path}\")\n",
    "\n",
    "    def on_epoch_end(self, epoch, logs=None):\n",
    "        # Extract validation data\n",
    "        val_images, val_labels = self.validation_data\n",
    "        y_pred = self.model.predict(val_images)\n",
    "        y_pred_labels = tf.argmax(y_pred, axis=1).numpy()\n",
    "        y_true_labels = tf.argmax(val_labels, axis=1).numpy()\n",
    "\n",
    "        # Calculate additional metrics\n",
    "        additional_metrics = calculate_metrics(y_true_labels, y_pred_labels)\n",
    "\n",
    "        # Save metrics to the CSV file\n",
    "        with open(self.log_file_path, mode='a', newline='') as file:\n",
    "            writer = csv.writer(file)\n",
    "            writer.writerow([\n",
    "                epoch + 1,\n",
    "                logs.get('loss'), logs.get('accuracy'), logs.get('precision'), logs.get('recall'),\n",
    "                logs.get('top_1_accuracy'), logs.get('top_5_accuracy'),\n",
    "                logs.get('val_loss'), logs.get('val_accuracy'), logs.get('val_precision'), logs.get('val_recall'),\n",
    "                logs.get('val_top_1_accuracy'), logs.get('val_top_5_accuracy'),\n",
    "                additional_metrics['f1_score'], additional_metrics['sensitivity'], additional_metrics['specificity']\n",
    "            ])\n",
    "        \n",
    "        print(f\"Epoch {epoch + 1}: Metrics logged.\")\n",
    "\n",
    "        # Save model checkpoint every nth epoch\n",
    "        if (epoch + 1) % self.save_interval == 0:\n",
    "            checkpoint_filepath = (\n",
    "                f\"/kaggle/working/model-\"\n",
    "                f\"{epoch + 1:02d}-\"\n",
    "                f\"val_acc_{logs['val_accuracy']:.4f}.keras\"\n",
    "            )\n",
    "            self.model.save(checkpoint_filepath)\n",
    "            print(f\"Model checkpoint saved at: {checkpoint_filepath}\")\n",
    "\n",
    "# Validation data\n",
    "validation_data = next(iter(validation_generator))\n",
    "\n",
    "# Initialize callback\n",
    "metrics_and_checkpoint_callback = SaveMetricsAndCheckpoints(\n",
    "    validation_data=(validation_data[0], validation_data[1]),\n",
    "    log_file_path='/Users/raghavgarg/Downloads/metrics_log.csv',\n",
    "    save_interval=10\n",
    ")\n"
   ]
  },
  {
   "cell_type": "markdown",
   "id": "a6bfe401-b80e-4111-8532-11f3d9aa8cb1",
   "metadata": {},
   "source": [
    "## DENSE_AVG_DEPTH_CONST_512"
   ]
  },
  {
   "cell_type": "code",
   "execution_count": 28,
   "id": "89ff7e68-6cc6-411e-975d-e243ae29d8b2",
   "metadata": {},
   "outputs": [
    {
     "name": "stderr",
     "output_type": "stream",
     "text": [
      "WARNING:absl:Compiled the loaded model, but the compiled metrics have yet to be built. `model.compile_metrics` will be empty until you train or evaluate the model.\n"
     ]
    },
    {
     "name": "stdout",
     "output_type": "stream",
     "text": [
      "Model loaded from: /Users/raghavgarg/Downloads/RESEARCH/DENSENET169/AVG_DEPTH_512/DENSE_AVG_DEPTH_512.h5\n"
     ]
    },
    {
     "data": {
      "text/plain": [
       "12797699"
      ]
     },
     "execution_count": 28,
     "metadata": {},
     "output_type": "execute_result"
    }
   ],
   "source": [
    "from tensorflow import keras\n",
    "# Load the model from the saved checkpoint\n",
    "model_path = '/Users/raghavgarg/Downloads/RESEARCH/DENSENET169/AVG_DEPTH_512/DENSE_AVG_DEPTH_512.h5'  # Update the model path as needed\n",
    "model = keras.models.load_model(model_path)\n",
    "\n",
    "print(f\"Model loaded from: {model_path}\")\n",
    "model.count_params()"
   ]
  },
  {
   "cell_type": "code",
   "execution_count": 8,
   "id": "b9c02e7b-e8fd-4ed8-8d78-37cf7eea53a3",
   "metadata": {},
   "outputs": [
    {
     "name": "stdout",
     "output_type": "stream",
     "text": [
      "Found 1340 images belonging to 67 classes.\n"
     ]
    },
    {
     "name": "stderr",
     "output_type": "stream",
     "text": [
      "/opt/anaconda3/lib/python3.12/site-packages/keras/src/trainers/data_adapters/py_dataset_adapter.py:121: UserWarning: Your `PyDataset` class should call `super().__init__(**kwargs)` in its constructor. `**kwargs` can include `workers`, `use_multiprocessing`, `max_queue_size`. Do not pass these arguments to `fit()`, as they will be ignored.\n",
      "  self._warn_if_super_not_called()\n"
     ]
    },
    {
     "name": "stdout",
     "output_type": "stream",
     "text": [
      "\u001b[1m90/90\u001b[0m \u001b[32m━━━━━━━━━━━━━━━━━━━━\u001b[0m\u001b[37m\u001b[0m \u001b[1m240s\u001b[0m 3s/step\n",
      "\u001b[1m90/90\u001b[0m \u001b[32m━━━━━━━━━━━━━━━━━━━━\u001b[0m\u001b[37m\u001b[0m \u001b[1m248s\u001b[0m 3s/step - accuracy: 0.5924 - loss: 2.6629 - precision: 0.6164 - recall: 0.5807 - top_1_accuracy: 0.5924 - top_5_accuracy: 0.8751\n",
      "Test Loss: 2.771942138671875\n",
      "Test Accuracy: 0.6000000238418579\n",
      "Test Precision: 0.6292760372161865\n",
      "Test Recall: 0.5902985334396362\n",
      "Top-1 Accuracy: 0.6000000238418579\n",
      "Top-5 Accuracy: 0.8671641945838928\n",
      "F1 Score: 0.5970705820956627\n",
      "Sensitivity (Recall): 0.6023800672889661\n",
      "Specificity: 0.9939391900097825\n"
     ]
    }
   ],
   "source": [
    "# Test Data Evaluation\n",
    "test_data_path = '/Users/raghavgarg/Downloads/split_data/test'  # Replace with actual path to test data\n",
    "batch_size = 15\n",
    "# Test Data Evaluation\n",
    "test_generator = test_datagen.flow_from_directory(\n",
    "    test_data_path,\n",
    "    target_size=(512, 512),\n",
    "    batch_size=batch_size,\n",
    "    class_mode='categorical',\n",
    "    shuffle=False\n",
    ")\n",
    "\n",
    "# Make predictions on the test data\n",
    "y_pred = model.predict(test_generator)\n",
    "y_pred_labels = np.argmax(y_pred, axis=1)\n",
    "\n",
    "# Ground truth labels from the test generator\n",
    "y_true_labels = test_generator.classes\n",
    "\n",
    "# Calculate additional metrics like precision, recall, F1 score, etc.\n",
    "additional_metrics = calculate_metrics(y_true_labels, y_pred_labels)\n",
    "\n",
    "# Evaluate the model on test data to get Top-1 and Top-5 accuracy\n",
    "test_loss, test_accuracy, test_precision, test_recall, top_1_acc, top_5_acc = model.evaluate(test_generator)\n",
    "\n",
    "# Print the metrics\n",
    "print(f\"Test Loss: {test_loss}\")\n",
    "print(f\"Test Accuracy: {test_accuracy}\")\n",
    "print(f\"Test Precision: {test_precision}\")\n",
    "print(f\"Test Recall: {test_recall}\")\n",
    "print(f\"Top-1 Accuracy: {top_1_acc}\")\n",
    "print(f\"Top-5 Accuracy: {top_5_acc}\")\n",
    "print(f\"F1 Score: {additional_metrics['f1_score']}\")\n",
    "print(f\"Sensitivity (Recall): {additional_metrics['sensitivity']}\")\n",
    "print(f\"Specificity: {additional_metrics['specificity']}\")\n"
   ]
  },
  {
   "cell_type": "markdown",
   "id": "ca31fc33-c9e5-4502-9ac7-647af873af48",
   "metadata": {},
   "source": [
    "## DENSE_DEPTH_CONST_512"
   ]
  },
  {
   "cell_type": "code",
   "execution_count": 29,
   "id": "982994c3-4327-46a1-b259-c05512270afe",
   "metadata": {},
   "outputs": [
    {
     "name": "stderr",
     "output_type": "stream",
     "text": [
      "WARNING:absl:Compiled the loaded model, but the compiled metrics have yet to be built. `model.compile_metrics` will be empty until you train or evaluate the model.\n"
     ]
    },
    {
     "data": {
      "text/plain": [
       "13182083"
      ]
     },
     "execution_count": 29,
     "metadata": {},
     "output_type": "execute_result"
    }
   ],
   "source": [
    "# Load the model from the saved checkpoint\n",
    "model_path = '/Users/raghavgarg/Downloads/RESEARCH/DENSENET169/DEPTH_512/densenet_dense_512.h5'  # Update the model path as needed\n",
    "model = keras.models.load_model(model_path)\n",
    "model.count_params()"
   ]
  },
  {
   "cell_type": "code",
   "execution_count": 9,
   "id": "ecb1dc77-3c1c-4db6-8436-914ef86b1e3b",
   "metadata": {},
   "outputs": [
    {
     "name": "stderr",
     "output_type": "stream",
     "text": [
      "WARNING:absl:Compiled the loaded model, but the compiled metrics have yet to be built. `model.compile_metrics` will be empty until you train or evaluate the model.\n"
     ]
    },
    {
     "name": "stdout",
     "output_type": "stream",
     "text": [
      "Found 1340 images belonging to 67 classes.\n"
     ]
    },
    {
     "name": "stderr",
     "output_type": "stream",
     "text": [
      "/opt/anaconda3/lib/python3.12/site-packages/keras/src/trainers/data_adapters/py_dataset_adapter.py:121: UserWarning: Your `PyDataset` class should call `super().__init__(**kwargs)` in its constructor. `**kwargs` can include `workers`, `use_multiprocessing`, `max_queue_size`. Do not pass these arguments to `fit()`, as they will be ignored.\n",
      "  self._warn_if_super_not_called()\n"
     ]
    },
    {
     "name": "stdout",
     "output_type": "stream",
     "text": [
      "\u001b[1m90/90\u001b[0m \u001b[32m━━━━━━━━━━━━━━━━━━━━\u001b[0m\u001b[37m\u001b[0m \u001b[1m261s\u001b[0m 3s/step\n",
      "\u001b[1m90/90\u001b[0m \u001b[32m━━━━━━━━━━━━━━━━━━━━\u001b[0m\u001b[37m\u001b[0m \u001b[1m266s\u001b[0m 3s/step - accuracy: 0.3203 - loss: 65.6001 - precision: 0.4159 - recall: 0.2436 - top_1_accuracy: 0.3203 - top_5_accuracy: 0.6464\n",
      "Test Loss: 75.35057067871094\n",
      "Test Accuracy: 0.3276119530200958\n",
      "Test Precision: 0.4219948947429657\n",
      "Test Recall: 0.24626865983009338\n",
      "Top-1 Accuracy: 0.3276119530200958\n",
      "Top-5 Accuracy: 0.6432836055755615\n",
      "F1 Score: 0.3285819389276536\n",
      "Sensitivity (Recall): 0.32870404248645635\n",
      "Specificity: 0.9898125655692366\n"
     ]
    }
   ],
   "source": [
    "# Load the model from the saved checkpoint\n",
    "model_path = '/Users/raghavgarg/Downloads/RESEARCH/DENSENET169/DEPTH_512/densenet_dense_512.h5'  # Update the model path as needed\n",
    "model = keras.models.load_model(model_path)\n",
    "# Test Data Evaluation\n",
    "test_data_path = '/Users/raghavgarg/Downloads/split_data/test'  # Replace with actual path to test data\n",
    "batch_size = 15\n",
    "# Test Data Evaluation\n",
    "test_generator = test_datagen.flow_from_directory(\n",
    "    test_data_path,\n",
    "    target_size=(512, 512),\n",
    "    batch_size=batch_size,\n",
    "    class_mode='categorical',\n",
    "    shuffle=False\n",
    ")\n",
    "\n",
    "# Make predictions on the test data\n",
    "y_pred = model.predict(test_generator)\n",
    "y_pred_labels = np.argmax(y_pred, axis=1)\n",
    "\n",
    "# Ground truth labels from the test generator\n",
    "y_true_labels = test_generator.classes\n",
    "\n",
    "# Calculate additional metrics like precision, recall, F1 score, etc.\n",
    "additional_metrics = calculate_metrics(y_true_labels, y_pred_labels)\n",
    "\n",
    "# Evaluate the model on test data to get Top-1 and Top-5 accuracy\n",
    "test_loss, test_accuracy, test_precision, test_recall, top_1_acc, top_5_acc = model.evaluate(test_generator)\n",
    "\n",
    "# Print the metrics\n",
    "print(f\"Test Loss: {test_loss}\")\n",
    "print(f\"Test Accuracy: {test_accuracy}\")\n",
    "print(f\"Test Precision: {test_precision}\")\n",
    "print(f\"Test Recall: {test_recall}\")\n",
    "print(f\"Top-1 Accuracy: {top_1_acc}\")\n",
    "print(f\"Top-5 Accuracy: {top_5_acc}\")\n",
    "print(f\"F1 Score: {additional_metrics['f1_score']}\")\n",
    "print(f\"Sensitivity (Recall): {additional_metrics['sensitivity']}\")\n",
    "print(f\"Specificity: {additional_metrics['specificity']}\")\n"
   ]
  },
  {
   "cell_type": "markdown",
   "id": "27093b09-724e-4d90-b7d4-b9f0bd723d02",
   "metadata": {},
   "source": [
    "## DENSE GAP 512"
   ]
  },
  {
   "cell_type": "code",
   "execution_count": 30,
   "id": "96b3eb01-9986-4de5-a248-ac06c9d2f901",
   "metadata": {},
   "outputs": [
    {
     "name": "stderr",
     "output_type": "stream",
     "text": [
      "WARNING:absl:Compiled the loaded model, but the compiled metrics have yet to be built. `model.compile_metrics` will be empty until you train or evaluate the model.\n"
     ]
    },
    {
     "data": {
      "text/plain": [
       "12754435"
      ]
     },
     "execution_count": 30,
     "metadata": {},
     "output_type": "execute_result"
    }
   ],
   "source": [
    "# Load the model from the saved checkpoint\n",
    "model_path = '/Users/raghavgarg/Downloads/RESEARCH/DENSENET169/GAP_512/dense_gap_512.h5'  # Update the model path as needed\n",
    "model = keras.models.load_model(model_path)\n",
    "model.count_params()"
   ]
  },
  {
   "cell_type": "code",
   "execution_count": 11,
   "id": "831ccad3-c366-4ce8-b6f0-cb63cf10d4dd",
   "metadata": {},
   "outputs": [
    {
     "name": "stderr",
     "output_type": "stream",
     "text": [
      "WARNING:absl:Compiled the loaded model, but the compiled metrics have yet to be built. `model.compile_metrics` will be empty until you train or evaluate the model.\n"
     ]
    },
    {
     "name": "stdout",
     "output_type": "stream",
     "text": [
      "Model loaded from: /Users/raghavgarg/Downloads/RESEARCH/DENSENET169/GAP_512/dense_gap_512.h5\n",
      "Found 1340 images belonging to 67 classes.\n",
      "\u001b[1m90/90\u001b[0m \u001b[32m━━━━━━━━━━━━━━━━━━━━\u001b[0m\u001b[37m\u001b[0m \u001b[1m246s\u001b[0m 3s/step\n",
      "\u001b[1m90/90\u001b[0m \u001b[32m━━━━━━━━━━━━━━━━━━━━\u001b[0m\u001b[37m\u001b[0m \u001b[1m258s\u001b[0m 3s/step - accuracy: 0.3131 - loss: 3.2175 - precision: 0.4547 - recall: 0.2449 - top_1_accuracy: 0.3131 - top_5_accuracy: 0.6109\n",
      "Test Loss: 3.245734930038452\n",
      "Test Accuracy: 0.3067164123058319\n",
      "Test Precision: 0.44880786538124084\n",
      "Test Recall: 0.23880596458911896\n",
      "Top-1 Accuracy: 0.3067164123058319\n",
      "Top-5 Accuracy: 0.611940324306488\n",
      "F1 Score: 0.30264099892421087\n",
      "Sensitivity (Recall): 0.3081688774875821\n",
      "Specificity: 0.9894951855193828\n"
     ]
    }
   ],
   "source": [
    "# Load the model from the saved checkpoint\n",
    "model_path = '/Users/raghavgarg/Downloads/RESEARCH/DENSENET169/GAP_512/dense_gap_512.h5'  # Update the model path as needed\n",
    "model = keras.models.load_model(model_path)\n",
    "\n",
    "print(f\"Model loaded from: {model_path}\")\n",
    "batch_size = 15\n",
    "# Test Data Evaluation\n",
    "test_generator = test_datagen.flow_from_directory(\n",
    "    test_data_path,\n",
    "    target_size=(512, 512),\n",
    "    batch_size=batch_size,\n",
    "    class_mode='categorical',\n",
    "    shuffle=False\n",
    ")\n",
    "\n",
    "# Make predictions on the test data\n",
    "y_pred = model.predict(test_generator)\n",
    "y_pred_labels = np.argmax(y_pred, axis=1)\n",
    "\n",
    "# Ground truth labels from the test generator\n",
    "y_true_labels = test_generator.classes\n",
    "\n",
    "# Calculate additional metrics like precision, recall, F1 score, etc.\n",
    "additional_metrics = calculate_metrics(y_true_labels, y_pred_labels)\n",
    "\n",
    "# Evaluate the model on test data to get Top-1 and Top-5 accuracy\n",
    "test_loss, test_accuracy, test_precision, test_recall, top_1_acc, top_5_acc = model.evaluate(test_generator)\n",
    "\n",
    "# Print the metrics\n",
    "print(f\"Test Loss: {test_loss}\")\n",
    "print(f\"Test Accuracy: {test_accuracy}\")\n",
    "print(f\"Test Precision: {test_precision}\")\n",
    "print(f\"Test Recall: {test_recall}\")\n",
    "print(f\"Top-1 Accuracy: {top_1_acc}\")\n",
    "print(f\"Top-5 Accuracy: {top_5_acc}\")\n",
    "print(f\"F1 Score: {additional_metrics['f1_score']}\")\n",
    "print(f\"Sensitivity (Recall): {additional_metrics['sensitivity']}\")\n",
    "print(f\"Specificity: {additional_metrics['specificity']}\")\n"
   ]
  },
  {
   "cell_type": "markdown",
   "id": "62052993-3c1c-4ea3-be84-596d6f61f2c5",
   "metadata": {},
   "source": [
    "## EFFICIENT AVG DEPTH 512"
   ]
  },
  {
   "cell_type": "code",
   "execution_count": 31,
   "id": "463bce5a-3f1b-49bf-a337-61fc2f24b24f",
   "metadata": {},
   "outputs": [
    {
     "data": {
      "text/plain": [
       "4168678"
      ]
     },
     "execution_count": 31,
     "metadata": {},
     "output_type": "execute_result"
    }
   ],
   "source": [
    "# Load the model from the saved checkpoint\n",
    "model_path = '/Users/raghavgarg/Downloads/RESEARCH/EFFICIENTNETB0/AVG_DEPTH_512/effi_avg_depth_512.keras'  # Update the model path as needed\n",
    "model = keras.models.load_model(model_path)\n",
    "model.count_params()"
   ]
  },
  {
   "cell_type": "code",
   "execution_count": 12,
   "id": "514baaf6-f4bd-4a8b-9ab2-14816cd57f6c",
   "metadata": {},
   "outputs": [
    {
     "name": "stdout",
     "output_type": "stream",
     "text": [
      "Model loaded from: /Users/raghavgarg/Downloads/RESEARCH/EFFICIENTNETB0/AVG_DEPTH_512/effi_avg_depth_512.keras\n",
      "Found 1340 images belonging to 67 classes.\n"
     ]
    },
    {
     "name": "stderr",
     "output_type": "stream",
     "text": [
      "/opt/anaconda3/lib/python3.12/site-packages/keras/src/trainers/data_adapters/py_dataset_adapter.py:121: UserWarning: Your `PyDataset` class should call `super().__init__(**kwargs)` in its constructor. `**kwargs` can include `workers`, `use_multiprocessing`, `max_queue_size`. Do not pass these arguments to `fit()`, as they will be ignored.\n",
      "  self._warn_if_super_not_called()\n",
      "WARNING: All log messages before absl::InitializeLog() is called are written to STDERR\n",
      "I0000 00:00:1734690904.118069 2008602 service.cc:148] XLA service 0x60003196c200 initialized for platform Host (this does not guarantee that XLA will be used). Devices:\n",
      "I0000 00:00:1734690904.118250 2008602 service.cc:156]   StreamExecutor device (0): Host, Default Version\n",
      "2024-12-20 16:05:04.197027: I tensorflow/compiler/mlir/tensorflow/utils/dump_mlir_util.cc:268] disabling MLIR crash reproducer, set env var `MLIR_CRASH_REPRODUCER_DIRECTORY` to enable.\n",
      "I0000 00:00:1734690904.868779 2008602 device_compiler.h:188] Compiled cluster using XLA!  This line is logged at most once for the lifetime of the process.\n"
     ]
    },
    {
     "name": "stdout",
     "output_type": "stream",
     "text": [
      "\u001b[1m90/90\u001b[0m \u001b[32m━━━━━━━━━━━━━━━━━━━━\u001b[0m\u001b[37m\u001b[0m \u001b[1m518s\u001b[0m 6s/step\n",
      "\u001b[1m90/90\u001b[0m \u001b[32m━━━━━━━━━━━━━━━━━━━━\u001b[0m\u001b[37m\u001b[0m \u001b[1m502s\u001b[0m 6s/step - accuracy: 0.6509 - loss: 1.9645 - precision: 0.6749 - recall: 0.6361 - top_1_accuracy: 0.6509 - top_5_accuracy: 0.9044\n",
      "Test Loss: 1.8740854263305664\n",
      "Test Accuracy: 0.6649253964424133\n",
      "Test Precision: 0.6934713125228882\n",
      "Test Recall: 0.6499999761581421\n",
      "Top-1 Accuracy: 0.6649253964424133\n",
      "Top-5 Accuracy: 0.9074627161026001\n",
      "F1 Score: 0.6614264995971746\n",
      "Sensitivity (Recall): 0.6672495916407934\n",
      "Specificity: 0.9949230537894032\n"
     ]
    }
   ],
   "source": [
    "# Load the model from the saved checkpoint\n",
    "model_path = '/Users/raghavgarg/Downloads/RESEARCH/EFFICIENTNETB0/AVG_DEPTH_512/effi_avg_depth_512.keras'  # Update the model path as needed\n",
    "model = keras.models.load_model(model_path)\n",
    "\n",
    "print(f\"Model loaded from: {model_path}\")\n",
    "batch_size = 15\n",
    "# Test Data Evaluation\n",
    "test_generator = test_datagen.flow_from_directory(\n",
    "    test_data_path,\n",
    "    target_size=(512, 512),\n",
    "    batch_size=batch_size,\n",
    "    class_mode='categorical',\n",
    "    shuffle=False\n",
    ")\n",
    "\n",
    "# Make predictions on the test data\n",
    "y_pred = model.predict(test_generator)\n",
    "y_pred_labels = np.argmax(y_pred, axis=1)\n",
    "\n",
    "# Ground truth labels from the test generator\n",
    "y_true_labels = test_generator.classes\n",
    "\n",
    "# Calculate additional metrics like precision, recall, F1 score, etc.\n",
    "additional_metrics = calculate_metrics(y_true_labels, y_pred_labels)\n",
    "\n",
    "# Evaluate the model on test data to get Top-1 and Top-5 accuracy\n",
    "test_loss, test_accuracy, test_precision, test_recall, top_1_acc, top_5_acc = model.evaluate(test_generator)\n",
    "\n",
    "# Print the metrics\n",
    "print(f\"Test Loss: {test_loss}\")\n",
    "print(f\"Test Accuracy: {test_accuracy}\")\n",
    "print(f\"Test Precision: {test_precision}\")\n",
    "print(f\"Test Recall: {test_recall}\")\n",
    "print(f\"Top-1 Accuracy: {top_1_acc}\")\n",
    "print(f\"Top-5 Accuracy: {top_5_acc}\")\n",
    "print(f\"F1 Score: {additional_metrics['f1_score']}\")\n",
    "print(f\"Sensitivity (Recall): {additional_metrics['sensitivity']}\")\n",
    "print(f\"Specificity: {additional_metrics['specificity']}\")\n"
   ]
  },
  {
   "cell_type": "markdown",
   "id": "7819ad2d-dcdd-496c-aef8-15e3be8f0504",
   "metadata": {},
   "source": [
    "## EFFICIENT DEPTH 512"
   ]
  },
  {
   "cell_type": "code",
   "execution_count": 32,
   "id": "6ccacc5b-4737-4ffc-9169-21cd8cec4920",
   "metadata": {},
   "outputs": [
    {
     "data": {
      "text/plain": [
       "4464358"
      ]
     },
     "execution_count": 32,
     "metadata": {},
     "output_type": "execute_result"
    }
   ],
   "source": [
    "# Load the model from the saved checkpoint\n",
    "model_path = '/Users/raghavgarg/Downloads/RESEARCH/EFFICIENTNETB0/DEPTH_512/effi_depth_512.keras'  # Update the model path as needed\n",
    "model = keras.models.load_model(model_path)\n",
    "model.count_params()"
   ]
  },
  {
   "cell_type": "code",
   "execution_count": 14,
   "id": "644eb523-4a66-44f8-81c8-c6dcfa223041",
   "metadata": {},
   "outputs": [
    {
     "name": "stdout",
     "output_type": "stream",
     "text": [
      "Model loaded from: /Users/raghavgarg/Downloads/RESEARCH/EFFICIENTNETB0/DEPTH_512/effi_depth_512.keras\n",
      "Found 1340 images belonging to 67 classes.\n"
     ]
    },
    {
     "name": "stderr",
     "output_type": "stream",
     "text": [
      "/opt/anaconda3/lib/python3.12/site-packages/keras/src/trainers/data_adapters/py_dataset_adapter.py:121: UserWarning: Your `PyDataset` class should call `super().__init__(**kwargs)` in its constructor. `**kwargs` can include `workers`, `use_multiprocessing`, `max_queue_size`. Do not pass these arguments to `fit()`, as they will be ignored.\n",
      "  self._warn_if_super_not_called()\n"
     ]
    },
    {
     "name": "stdout",
     "output_type": "stream",
     "text": [
      "\u001b[1m90/90\u001b[0m \u001b[32m━━━━━━━━━━━━━━━━━━━━\u001b[0m\u001b[37m\u001b[0m \u001b[1m465s\u001b[0m 5s/step\n",
      "\u001b[1m90/90\u001b[0m \u001b[32m━━━━━━━━━━━━━━━━━━━━\u001b[0m\u001b[37m\u001b[0m \u001b[1m482s\u001b[0m 5s/step - accuracy: 0.5832 - loss: 2.9627 - precision: 0.6044 - recall: 0.5732 - top_1_accuracy: 0.5832 - top_5_accuracy: 0.8471\n",
      "Test Loss: 2.8126564025878906\n",
      "Test Accuracy: 0.6149253845214844\n",
      "Test Precision: 0.6397466063499451\n",
      "Test Recall: 0.6029850840568542\n",
      "Top-1 Accuracy: 0.6149253845214844\n",
      "Top-5 Accuracy: 0.8537313342094421\n",
      "F1 Score: 0.6093325060021894\n",
      "Sensitivity (Recall): 0.6159906748355003\n",
      "Specificity: 0.9941655712652566\n"
     ]
    }
   ],
   "source": [
    "# Load the model from the saved checkpoint\n",
    "model_path = '/Users/raghavgarg/Downloads/RESEARCH/EFFICIENTNETB0/DEPTH_512/effi_depth_512.keras'  # Update the model path as needed\n",
    "model = keras.models.load_model(model_path)\n",
    "\n",
    "print(f\"Model loaded from: {model_path}\")\n",
    "# Test Data Evaluation\n",
    "batch_size = 15\n",
    "# Test Data Evaluation\n",
    "test_generator = test_datagen.flow_from_directory(\n",
    "    test_data_path,\n",
    "    target_size=(512, 512),\n",
    "    batch_size=batch_size,\n",
    "    class_mode='categorical',\n",
    "    shuffle=False\n",
    ")\n",
    "\n",
    "# Make predictions on the test data\n",
    "y_pred = model.predict(test_generator)\n",
    "y_pred_labels = np.argmax(y_pred, axis=1)\n",
    "\n",
    "# Ground truth labels from the test generator\n",
    "y_true_labels = test_generator.classes\n",
    "\n",
    "# Calculate additional metrics like precision, recall, F1 score, etc.\n",
    "additional_metrics = calculate_metrics(y_true_labels, y_pred_labels)\n",
    "\n",
    "# Evaluate the model on test data to get Top-1 and Top-5 accuracy\n",
    "test_loss, test_accuracy, test_precision, test_recall, top_1_acc, top_5_acc = model.evaluate(test_generator)\n",
    "\n",
    "# Print the metrics\n",
    "print(f\"Test Loss: {test_loss}\")\n",
    "print(f\"Test Accuracy: {test_accuracy}\")\n",
    "print(f\"Test Precision: {test_precision}\")\n",
    "print(f\"Test Recall: {test_recall}\")\n",
    "print(f\"Top-1 Accuracy: {top_1_acc}\")\n",
    "print(f\"Top-5 Accuracy: {top_5_acc}\")\n",
    "print(f\"F1 Score: {additional_metrics['f1_score']}\")\n",
    "print(f\"Sensitivity (Recall): {additional_metrics['sensitivity']}\")\n",
    "print(f\"Specificity: {additional_metrics['specificity']}\")\n"
   ]
  },
  {
   "cell_type": "markdown",
   "id": "47354d73-9f33-42bc-8f46-fd6cfa803dc4",
   "metadata": {},
   "source": [
    "## EFFICIENT GAP 512"
   ]
  },
  {
   "cell_type": "code",
   "execution_count": 33,
   "id": "5890c952-b766-4495-8fa8-5d0add01e793",
   "metadata": {},
   "outputs": [
    {
     "data": {
      "text/plain": [
       "4135398"
      ]
     },
     "execution_count": 33,
     "metadata": {},
     "output_type": "execute_result"
    }
   ],
   "source": [
    "# Load the model from the saved checkpoint\n",
    "model_path = '/Users/raghavgarg/Downloads/RESEARCH/EFFICIENTNETB0/GAP_512/model-130-val_acc_0.7142.keras'  # Update the model path as needed\n",
    "model = keras.models.load_model(model_path)\n",
    "model.count_params()"
   ]
  },
  {
   "cell_type": "code",
   "execution_count": 15,
   "id": "dd9b9207-8d1c-428b-9a78-68b73415afc6",
   "metadata": {},
   "outputs": [
    {
     "name": "stdout",
     "output_type": "stream",
     "text": [
      "Model loaded from: /Users/raghavgarg/Downloads/RESEARCH/EFFICIENTNETB0/GAP_512/model-130-val_acc_0.7142.keras\n",
      "Found 1340 images belonging to 67 classes.\n"
     ]
    },
    {
     "name": "stderr",
     "output_type": "stream",
     "text": [
      "/opt/anaconda3/lib/python3.12/site-packages/keras/src/trainers/data_adapters/py_dataset_adapter.py:121: UserWarning: Your `PyDataset` class should call `super().__init__(**kwargs)` in its constructor. `**kwargs` can include `workers`, `use_multiprocessing`, `max_queue_size`. Do not pass these arguments to `fit()`, as they will be ignored.\n",
      "  self._warn_if_super_not_called()\n"
     ]
    },
    {
     "name": "stdout",
     "output_type": "stream",
     "text": [
      "\u001b[1m90/90\u001b[0m \u001b[32m━━━━━━━━━━━━━━━━━━━━\u001b[0m\u001b[37m\u001b[0m \u001b[1m513s\u001b[0m 6s/step\n",
      "\u001b[1m90/90\u001b[0m \u001b[32m━━━━━━━━━━━━━━━━━━━━\u001b[0m\u001b[37m\u001b[0m \u001b[1m511s\u001b[0m 6s/step - accuracy: 0.7059 - loss: 1.5547 - precision: 0.7452 - recall: 0.6794 - top_1_accuracy: 0.7059 - top_5_accuracy: 0.9094\n",
      "Test Loss: 1.4538332223892212\n",
      "Test Accuracy: 0.7134328484535217\n",
      "Test Precision: 0.751010537147522\n",
      "Test Recall: 0.6932835578918457\n",
      "Top-1 Accuracy: 0.7134328484535217\n",
      "Top-5 Accuracy: 0.9216417670249939\n",
      "F1 Score: 0.7118072706654355\n",
      "Sensitivity (Recall): 0.7144781835247598\n",
      "Specificity: 0.9956581529068967\n"
     ]
    }
   ],
   "source": [
    "# Load the model from the saved checkpoint\n",
    "model_path = '/Users/raghavgarg/Downloads/RESEARCH/EFFICIENTNETB0/GAP_512/model-130-val_acc_0.7142.keras'  # Update the model path as needed\n",
    "model = keras.models.load_model(model_path)\n",
    "\n",
    "print(f\"Model loaded from: {model_path}\")\n",
    "batch_size = 15\n",
    "# Test Data Evaluation\n",
    "test_generator = test_datagen.flow_from_directory(\n",
    "    test_data_path,\n",
    "    target_size=(512, 512),\n",
    "    batch_size=batch_size,\n",
    "    class_mode='categorical',\n",
    "    shuffle=False\n",
    ")\n",
    "\n",
    "# Make predictions on the test data\n",
    "y_pred = model.predict(test_generator)\n",
    "y_pred_labels = np.argmax(y_pred, axis=1)\n",
    "\n",
    "# Ground truth labels from the test generator\n",
    "y_true_labels = test_generator.classes\n",
    "\n",
    "# Calculate additional metrics like precision, recall, F1 score, etc.\n",
    "additional_metrics = calculate_metrics(y_true_labels, y_pred_labels)\n",
    "\n",
    "# Evaluate the model on test data to get Top-1 and Top-5 accuracy\n",
    "test_loss, test_accuracy, test_precision, test_recall, top_1_acc, top_5_acc = model.evaluate(test_generator)\n",
    "\n",
    "# Print the metrics\n",
    "print(f\"Test Loss: {test_loss}\")\n",
    "print(f\"Test Accuracy: {test_accuracy}\")\n",
    "print(f\"Test Precision: {test_precision}\")\n",
    "print(f\"Test Recall: {test_recall}\")\n",
    "print(f\"Top-1 Accuracy: {top_1_acc}\")\n",
    "print(f\"Top-5 Accuracy: {top_5_acc}\")\n",
    "print(f\"F1 Score: {additional_metrics['f1_score']}\")\n",
    "print(f\"Sensitivity (Recall): {additional_metrics['sensitivity']}\")\n",
    "print(f\"Specificity: {additional_metrics['specificity']}\")\n"
   ]
  },
  {
   "cell_type": "markdown",
   "id": "907ed2ca-ea3e-470c-bb35-78c58758d2d4",
   "metadata": {},
   "source": [
    "## MOBILENETV2 AVG DENSE 512"
   ]
  },
  {
   "cell_type": "code",
   "execution_count": 34,
   "id": "856f2a44-cd38-4ae0-b563-66df2bd7a215",
   "metadata": {},
   "outputs": [
    {
     "name": "stderr",
     "output_type": "stream",
     "text": [
      "WARNING:absl:Compiled the loaded model, but the compiled metrics have yet to be built. `model.compile_metrics` will be empty until you train or evaluate the model.\n"
     ]
    },
    {
     "data": {
      "text/plain": [
       "2377091"
      ]
     },
     "execution_count": 34,
     "metadata": {},
     "output_type": "execute_result"
    }
   ],
   "source": [
    "# Load the model from the saved checkpoint\n",
    "model_path = '/Users/raghavgarg/Downloads/RESEARCH/MOBILENETV2/AVG_DEPTH_512/Mob_avg_depth.h5'  # Update the model path as needed\n",
    "model = keras.models.load_model(model_path)\n",
    "model.count_params()"
   ]
  },
  {
   "cell_type": "code",
   "execution_count": 16,
   "id": "95fd3f5d-a7b8-4e58-a03f-aba0e1cef5cc",
   "metadata": {},
   "outputs": [
    {
     "name": "stderr",
     "output_type": "stream",
     "text": [
      "WARNING:absl:Compiled the loaded model, but the compiled metrics have yet to be built. `model.compile_metrics` will be empty until you train or evaluate the model.\n"
     ]
    },
    {
     "name": "stdout",
     "output_type": "stream",
     "text": [
      "Model loaded from: /Users/raghavgarg/Downloads/RESEARCH/MOBILENETV2/AVG_DEPTH_512/Mob_avg_depth.h5\n",
      "Found 1340 images belonging to 67 classes.\n"
     ]
    },
    {
     "name": "stderr",
     "output_type": "stream",
     "text": [
      "/opt/anaconda3/lib/python3.12/site-packages/keras/src/trainers/data_adapters/py_dataset_adapter.py:121: UserWarning: Your `PyDataset` class should call `super().__init__(**kwargs)` in its constructor. `**kwargs` can include `workers`, `use_multiprocessing`, `max_queue_size`. Do not pass these arguments to `fit()`, as they will be ignored.\n",
      "  self._warn_if_super_not_called()\n"
     ]
    },
    {
     "name": "stdout",
     "output_type": "stream",
     "text": [
      "\u001b[1m90/90\u001b[0m \u001b[32m━━━━━━━━━━━━━━━━━━━━\u001b[0m\u001b[37m\u001b[0m \u001b[1m48s\u001b[0m 527ms/step\n",
      "\u001b[1m90/90\u001b[0m \u001b[32m━━━━━━━━━━━━━━━━━━━━\u001b[0m\u001b[37m\u001b[0m \u001b[1m49s\u001b[0m 536ms/step - accuracy: 0.5136 - loss: 3.1046 - precision: 0.5468 - recall: 0.4979 - top_1_accuracy: 0.5136 - top_5_accuracy: 0.8144\n",
      "Test Loss: 3.022381067276001\n",
      "Test Accuracy: 0.5246268510818481\n",
      "Test Precision: 0.5612161159515381\n",
      "Test Recall: 0.5097014904022217\n",
      "Top-1 Accuracy: 0.5246268510818481\n",
      "Top-5 Accuracy: 0.8216418027877808\n",
      "F1 Score: 0.5214898777332612\n",
      "Sensitivity (Recall): 0.5260238694378401\n",
      "Specificity: 0.9927975051518512\n"
     ]
    }
   ],
   "source": [
    "# Load the model from the saved checkpoint\n",
    "model_path = '/Users/raghavgarg/Downloads/RESEARCH/MOBILENETV2/AVG_DEPTH_512/Mob_avg_depth.h5'  # Update the model path as needed\n",
    "model = keras.models.load_model(model_path)\n",
    "\n",
    "print(f\"Model loaded from: {model_path}\")\n",
    "batch_size = 15\n",
    "# Test Data Evaluation\n",
    "test_generator = test_datagen.flow_from_directory(\n",
    "    test_data_path,\n",
    "    target_size=(512, 512),\n",
    "    batch_size=batch_size,\n",
    "    class_mode='categorical',\n",
    "    shuffle=False\n",
    ")\n",
    "\n",
    "# Make predictions on the test data\n",
    "y_pred = model.predict(test_generator)\n",
    "y_pred_labels = np.argmax(y_pred, axis=1)\n",
    "\n",
    "# Ground truth labels from the test generator\n",
    "y_true_labels = test_generator.classes\n",
    "\n",
    "# Calculate additional metrics like precision, recall, F1 score, etc.\n",
    "additional_metrics = calculate_metrics(y_true_labels, y_pred_labels)\n",
    "\n",
    "# Evaluate the model on test data to get Top-1 and Top-5 accuracy\n",
    "test_loss, test_accuracy, test_precision, test_recall, top_1_acc, top_5_acc = model.evaluate(test_generator)\n",
    "\n",
    "# Print the metrics\n",
    "print(f\"Test Loss: {test_loss}\")\n",
    "print(f\"Test Accuracy: {test_accuracy}\")\n",
    "print(f\"Test Precision: {test_precision}\")\n",
    "print(f\"Test Recall: {test_recall}\")\n",
    "print(f\"Top-1 Accuracy: {top_1_acc}\")\n",
    "print(f\"Top-5 Accuracy: {top_5_acc}\")\n",
    "print(f\"F1 Score: {additional_metrics['f1_score']}\")\n",
    "print(f\"Sensitivity (Recall): {additional_metrics['sensitivity']}\")\n",
    "print(f\"Specificity: {additional_metrics['specificity']}\")\n"
   ]
  },
  {
   "cell_type": "markdown",
   "id": "d47f212c-5296-48eb-8285-2eb59d99d10a",
   "metadata": {},
   "source": [
    "## MOBILE DENSE 512"
   ]
  },
  {
   "cell_type": "code",
   "execution_count": 35,
   "id": "b0f5219b-c4da-41bf-b31b-418678666ce7",
   "metadata": {},
   "outputs": [
    {
     "name": "stderr",
     "output_type": "stream",
     "text": [
      "WARNING:absl:Compiled the loaded model, but the compiled metrics have yet to be built. `model.compile_metrics` will be empty until you train or evaluate the model.\n"
     ]
    },
    {
     "data": {
      "text/plain": [
       "2672771"
      ]
     },
     "execution_count": 35,
     "metadata": {},
     "output_type": "execute_result"
    }
   ],
   "source": [
    "# Load the model from the saved checkpoint\n",
    "model_path = '/Users/raghavgarg/Downloads/RESEARCH/MOBILENETV2/DEPTH_512/MOBILE_DEPTH_512.h5'  # Update the model path as needed\n",
    "model = keras.models.load_model(model_path)\n",
    "model.count_params()"
   ]
  },
  {
   "cell_type": "code",
   "execution_count": 17,
   "id": "93775638-cf0d-4681-98e4-63f66d9c8726",
   "metadata": {},
   "outputs": [
    {
     "name": "stderr",
     "output_type": "stream",
     "text": [
      "WARNING:absl:Compiled the loaded model, but the compiled metrics have yet to be built. `model.compile_metrics` will be empty until you train or evaluate the model.\n"
     ]
    },
    {
     "name": "stdout",
     "output_type": "stream",
     "text": [
      "Model loaded from: /Users/raghavgarg/Downloads/RESEARCH/MOBILENETV2/DEPTH_512/MOBILE_DEPTH_512.h5\n",
      "Found 1340 images belonging to 67 classes.\n"
     ]
    },
    {
     "name": "stderr",
     "output_type": "stream",
     "text": [
      "/opt/anaconda3/lib/python3.12/site-packages/keras/src/trainers/data_adapters/py_dataset_adapter.py:121: UserWarning: Your `PyDataset` class should call `super().__init__(**kwargs)` in its constructor. `**kwargs` can include `workers`, `use_multiprocessing`, `max_queue_size`. Do not pass these arguments to `fit()`, as they will be ignored.\n",
      "  self._warn_if_super_not_called()\n"
     ]
    },
    {
     "name": "stdout",
     "output_type": "stream",
     "text": [
      "\u001b[1m90/90\u001b[0m \u001b[32m━━━━━━━━━━━━━━━━━━━━\u001b[0m\u001b[37m\u001b[0m \u001b[1m49s\u001b[0m 542ms/step\n",
      "\u001b[1m90/90\u001b[0m \u001b[32m━━━━━━━━━━━━━━━━━━━━\u001b[0m\u001b[37m\u001b[0m \u001b[1m49s\u001b[0m 534ms/step - accuracy: 0.4377 - loss: 2.6102 - precision: 0.5286 - recall: 0.3903 - top_1_accuracy: 0.4377 - top_5_accuracy: 0.7784\n",
      "Test Loss: 2.653491497039795\n",
      "Test Accuracy: 0.44477611780166626\n",
      "Test Precision: 0.5323886871337891\n",
      "Test Recall: 0.39253732562065125\n",
      "Top-1 Accuracy: 0.44477611780166626\n",
      "Top-5 Accuracy: 0.7686567306518555\n",
      "F1 Score: 0.4380407331515346\n",
      "Sensitivity (Recall): 0.4465864340203105\n",
      "Specificity: 0.9915876089004274\n"
     ]
    }
   ],
   "source": [
    "# Load the model from the saved checkpoint\n",
    "model_path = '/Users/raghavgarg/Downloads/RESEARCH/MOBILENETV2/DEPTH_512/MOBILE_DEPTH_512.h5'  # Update the model path as needed\n",
    "model = keras.models.load_model(model_path)\n",
    "\n",
    "print(f\"Model loaded from: {model_path}\")\n",
    "batch_size = 15\n",
    "# Test Data Evaluation\n",
    "test_generator = test_datagen.flow_from_directory(\n",
    "    test_data_path,\n",
    "    target_size=(512, 512),\n",
    "    batch_size=batch_size,\n",
    "    class_mode='categorical',\n",
    "    shuffle=False\n",
    ")\n",
    "\n",
    "# Make predictions on the test data\n",
    "y_pred = model.predict(test_generator)\n",
    "y_pred_labels = np.argmax(y_pred, axis=1)\n",
    "\n",
    "# Ground truth labels from the test generator\n",
    "y_true_labels = test_generator.classes\n",
    "\n",
    "# Calculate additional metrics like precision, recall, F1 score, etc.\n",
    "additional_metrics = calculate_metrics(y_true_labels, y_pred_labels)\n",
    "\n",
    "# Evaluate the model on test data to get Top-1 and Top-5 accuracy\n",
    "test_loss, test_accuracy, test_precision, test_recall, top_1_acc, top_5_acc = model.evaluate(test_generator)\n",
    "\n",
    "# Print the metrics\n",
    "print(f\"Test Loss: {test_loss}\")\n",
    "print(f\"Test Accuracy: {test_accuracy}\")\n",
    "print(f\"Test Precision: {test_precision}\")\n",
    "print(f\"Test Recall: {test_recall}\")\n",
    "print(f\"Top-1 Accuracy: {top_1_acc}\")\n",
    "print(f\"Top-5 Accuracy: {top_5_acc}\")\n",
    "print(f\"F1 Score: {additional_metrics['f1_score']}\")\n",
    "print(f\"Sensitivity (Recall): {additional_metrics['sensitivity']}\")\n",
    "print(f\"Specificity: {additional_metrics['specificity']}\")\n"
   ]
  },
  {
   "cell_type": "markdown",
   "id": "5eee9125-ddb7-4c32-83b4-d9eec596e741",
   "metadata": {},
   "source": [
    "## MOBILE GAP 512"
   ]
  },
  {
   "cell_type": "code",
   "execution_count": 36,
   "id": "304a7c00-42f5-4878-a5c9-2c44b8038861",
   "metadata": {},
   "outputs": [
    {
     "name": "stderr",
     "output_type": "stream",
     "text": [
      "WARNING:absl:Compiled the loaded model, but the compiled metrics have yet to be built. `model.compile_metrics` will be empty until you train or evaluate the model.\n"
     ]
    },
    {
     "data": {
      "text/plain": [
       "2343811"
      ]
     },
     "execution_count": 36,
     "metadata": {},
     "output_type": "execute_result"
    }
   ],
   "source": [
    "# Load the model from the saved checkpoint\n",
    "model_path = '/Users/raghavgarg/Downloads/RESEARCH/MOBILENETV2/GAP_512/mobile_gap_512.h5'  # Update the model path as needed\n",
    "model = keras.models.load_model(model_path)\n",
    "model.count_params()"
   ]
  },
  {
   "cell_type": "code",
   "execution_count": 18,
   "id": "a72a2dde-dafc-497c-a3ae-e260d3f29ca9",
   "metadata": {},
   "outputs": [
    {
     "name": "stderr",
     "output_type": "stream",
     "text": [
      "WARNING:absl:Compiled the loaded model, but the compiled metrics have yet to be built. `model.compile_metrics` will be empty until you train or evaluate the model.\n"
     ]
    },
    {
     "name": "stdout",
     "output_type": "stream",
     "text": [
      "Model loaded from: /Users/raghavgarg/Downloads/RESEARCH/MOBILENETV2/GAP_512/mobile_gap_512.h5\n",
      "Found 1340 images belonging to 67 classes.\n"
     ]
    },
    {
     "name": "stderr",
     "output_type": "stream",
     "text": [
      "/opt/anaconda3/lib/python3.12/site-packages/keras/src/trainers/data_adapters/py_dataset_adapter.py:121: UserWarning: Your `PyDataset` class should call `super().__init__(**kwargs)` in its constructor. `**kwargs` can include `workers`, `use_multiprocessing`, `max_queue_size`. Do not pass these arguments to `fit()`, as they will be ignored.\n",
      "  self._warn_if_super_not_called()\n"
     ]
    },
    {
     "name": "stdout",
     "output_type": "stream",
     "text": [
      "\u001b[1m90/90\u001b[0m \u001b[32m━━━━━━━━━━━━━━━━━━━━\u001b[0m\u001b[37m\u001b[0m \u001b[1m50s\u001b[0m 553ms/step\n",
      "\u001b[1m90/90\u001b[0m \u001b[32m━━━━━━━━━━━━━━━━━━━━\u001b[0m\u001b[37m\u001b[0m \u001b[1m52s\u001b[0m 563ms/step - accuracy: 0.5106 - loss: 2.3763 - precision: 0.5757 - recall: 0.4718 - top_1_accuracy: 0.5106 - top_5_accuracy: 0.8183\n",
      "Test Loss: 2.390291452407837\n",
      "Test Accuracy: 0.5134328603744507\n",
      "Test Precision: 0.5785649418830872\n",
      "Test Recall: 0.47537314891815186\n",
      "Top-1 Accuracy: 0.5134328603744507\n",
      "Top-5 Accuracy: 0.8216418027877808\n",
      "F1 Score: 0.5078847926088895\n",
      "Sensitivity (Recall): 0.5155033989373196\n",
      "Specificity: 0.9926271862631393\n"
     ]
    }
   ],
   "source": [
    "# Load the model from the saved checkpoint\n",
    "model_path = '/Users/raghavgarg/Downloads/RESEARCH/MOBILENETV2/GAP_512/mobile_gap_512.h5'  # Update the model path as needed\n",
    "model = keras.models.load_model(model_path)\n",
    "\n",
    "print(f\"Model loaded from: {model_path}\")\n",
    "batch_size = 15\n",
    "# Test Data Evaluation\n",
    "test_generator = test_datagen.flow_from_directory(\n",
    "    test_data_path,\n",
    "    target_size=(512, 512),\n",
    "    batch_size=batch_size,\n",
    "    class_mode='categorical',\n",
    "    shuffle=False\n",
    ")\n",
    "\n",
    "# Make predictions on the test data\n",
    "y_pred = model.predict(test_generator)\n",
    "y_pred_labels = np.argmax(y_pred, axis=1)\n",
    "\n",
    "# Ground truth labels from the test generator\n",
    "y_true_labels = test_generator.classes\n",
    "\n",
    "# Calculate additional metrics like precision, recall, F1 score, etc.\n",
    "additional_metrics = calculate_metrics(y_true_labels, y_pred_labels)\n",
    "\n",
    "# Evaluate the model on test data to get Top-1 and Top-5 accuracy\n",
    "test_loss, test_accuracy, test_precision, test_recall, top_1_acc, top_5_acc = model.evaluate(test_generator)\n",
    "\n",
    "# Print the metrics\n",
    "print(f\"Test Loss: {test_loss}\")\n",
    "print(f\"Test Accuracy: {test_accuracy}\")\n",
    "print(f\"Test Precision: {test_precision}\")\n",
    "print(f\"Test Recall: {test_recall}\")\n",
    "print(f\"Top-1 Accuracy: {top_1_acc}\")\n",
    "print(f\"Top-5 Accuracy: {top_5_acc}\")\n",
    "print(f\"F1 Score: {additional_metrics['f1_score']}\")\n",
    "print(f\"Sensitivity (Recall): {additional_metrics['sensitivity']}\")\n",
    "print(f\"Specificity: {additional_metrics['specificity']}\")\n"
   ]
  },
  {
   "cell_type": "markdown",
   "id": "c3a614ad-b80a-4568-80b0-eccb770a8e5d",
   "metadata": {},
   "source": [
    "## RESNET AVG DEPTH 512"
   ]
  },
  {
   "cell_type": "code",
   "execution_count": 37,
   "id": "f72e3be9-c86b-4a5c-b1ea-66edc4ded33d",
   "metadata": {},
   "outputs": [
    {
     "name": "stderr",
     "output_type": "stream",
     "text": [
      "WARNING:absl:Compiled the loaded model, but the compiled metrics have yet to be built. `model.compile_metrics` will be empty until you train or evaluate the model.\n"
     ]
    },
    {
     "data": {
      "text/plain": [
       "23778243"
      ]
     },
     "execution_count": 37,
     "metadata": {},
     "output_type": "execute_result"
    }
   ],
   "source": [
    "# Load the model from the saved checkpoint\n",
    "model_path = '/Users/raghavgarg/Downloads/RESEARCH/RESNET50/AVG_DEPTH_512/RESNET_AVG_DEPTH_512.h5'  # Update the model path as needed\n",
    "model = keras.models.load_model(model_path)\n",
    "model.count_params()"
   ]
  },
  {
   "cell_type": "code",
   "execution_count": 19,
   "id": "78eb04a8-d917-42ec-bb7c-88faa7ca81c2",
   "metadata": {},
   "outputs": [
    {
     "name": "stderr",
     "output_type": "stream",
     "text": [
      "WARNING:absl:Compiled the loaded model, but the compiled metrics have yet to be built. `model.compile_metrics` will be empty until you train or evaluate the model.\n"
     ]
    },
    {
     "name": "stdout",
     "output_type": "stream",
     "text": [
      "Model loaded from: /Users/raghavgarg/Downloads/RESEARCH/RESNET50/AVG_DEPTH_512/RESNET_AVG_DEPTH_512.h5\n",
      "Found 1340 images belonging to 67 classes.\n"
     ]
    },
    {
     "name": "stderr",
     "output_type": "stream",
     "text": [
      "/opt/anaconda3/lib/python3.12/site-packages/keras/src/trainers/data_adapters/py_dataset_adapter.py:121: UserWarning: Your `PyDataset` class should call `super().__init__(**kwargs)` in its constructor. `**kwargs` can include `workers`, `use_multiprocessing`, `max_queue_size`. Do not pass these arguments to `fit()`, as they will be ignored.\n",
      "  self._warn_if_super_not_called()\n"
     ]
    },
    {
     "name": "stdout",
     "output_type": "stream",
     "text": [
      "\u001b[1m90/90\u001b[0m \u001b[32m━━━━━━━━━━━━━━━━━━━━\u001b[0m\u001b[37m\u001b[0m \u001b[1m222s\u001b[0m 2s/step\n",
      "\u001b[1m90/90\u001b[0m \u001b[32m━━━━━━━━━━━━━━━━━━━━\u001b[0m\u001b[37m\u001b[0m \u001b[1m224s\u001b[0m 2s/step - accuracy: 0.5800 - loss: 2.7816 - precision: 0.6208 - recall: 0.5695 - top_1_accuracy: 0.5800 - top_5_accuracy: 0.8484\n",
      "Test Loss: 2.8268027305603027\n",
      "Test Accuracy: 0.5873134136199951\n",
      "Test Precision: 0.6235864162445068\n",
      "Test Recall: 0.5761194229125977\n",
      "Top-1 Accuracy: 0.5873134136199951\n",
      "Top-5 Accuracy: 0.8500000238418579\n",
      "F1 Score: 0.585241903567283\n",
      "Sensitivity (Recall): 0.5892378008181746\n",
      "Specificity: 0.9937468393710096\n"
     ]
    }
   ],
   "source": [
    "# Load the model from the saved checkpoint\n",
    "model_path = '/Users/raghavgarg/Downloads/RESEARCH/RESNET50/AVG_DEPTH_512/RESNET_AVG_DEPTH_512.h5'  # Update the model path as needed\n",
    "model = keras.models.load_model(model_path)\n",
    "\n",
    "print(f\"Model loaded from: {model_path}\")\n",
    "batch_size = 15\n",
    "# Test Data Evaluation\n",
    "test_generator = test_datagen.flow_from_directory(\n",
    "    test_data_path,\n",
    "    target_size=(512, 512),\n",
    "    batch_size=batch_size,\n",
    "    class_mode='categorical',\n",
    "    shuffle=False\n",
    ")\n",
    "\n",
    "# Make predictions on the test data\n",
    "y_pred = model.predict(test_generator)\n",
    "y_pred_labels = np.argmax(y_pred, axis=1)\n",
    "\n",
    "# Ground truth labels from the test generator\n",
    "y_true_labels = test_generator.classes\n",
    "\n",
    "# Calculate additional metrics like precision, recall, F1 score, etc.\n",
    "additional_metrics = calculate_metrics(y_true_labels, y_pred_labels)\n",
    "\n",
    "# Evaluate the model on test data to get Top-1 and Top-5 accuracy\n",
    "test_loss, test_accuracy, test_precision, test_recall, top_1_acc, top_5_acc = model.evaluate(test_generator)\n",
    "\n",
    "# Print the metrics\n",
    "print(f\"Test Loss: {test_loss}\")\n",
    "print(f\"Test Accuracy: {test_accuracy}\")\n",
    "print(f\"Test Precision: {test_precision}\")\n",
    "print(f\"Test Recall: {test_recall}\")\n",
    "print(f\"Top-1 Accuracy: {top_1_acc}\")\n",
    "print(f\"Top-5 Accuracy: {top_5_acc}\")\n",
    "print(f\"F1 Score: {additional_metrics['f1_score']}\")\n",
    "print(f\"Sensitivity (Recall): {additional_metrics['sensitivity']}\")\n",
    "print(f\"Specificity: {additional_metrics['specificity']}\")\n"
   ]
  },
  {
   "cell_type": "markdown",
   "id": "d23ab15a-064e-46a5-9846-f1464ab29a3f",
   "metadata": {},
   "source": [
    "## RESNET DEPTH 512"
   ]
  },
  {
   "cell_type": "code",
   "execution_count": 38,
   "id": "9e15fc4e-60d5-4fb5-bc6a-ef2cc1acbe41",
   "metadata": {},
   "outputs": [
    {
     "name": "stderr",
     "output_type": "stream",
     "text": [
      "WARNING:absl:Compiled the loaded model, but the compiled metrics have yet to be built. `model.compile_metrics` will be empty until you train or evaluate the model.\n"
     ]
    },
    {
     "data": {
      "text/plain": [
       "24251331"
      ]
     },
     "execution_count": 38,
     "metadata": {},
     "output_type": "execute_result"
    }
   ],
   "source": [
    "# Load the model from the saved checkpoint\n",
    "model_path = '/Users/raghavgarg/Downloads/RESEARCH/RESNET50/DEPTH_512/RESNET_DEPTH_512.h5'  # Update the model path as needed\n",
    "model = keras.models.load_model(model_path)\n",
    "model.count_params()"
   ]
  },
  {
   "cell_type": "code",
   "execution_count": 22,
   "id": "b1ffc60e-9dd6-43db-a120-e9ff81239e3d",
   "metadata": {},
   "outputs": [
    {
     "name": "stderr",
     "output_type": "stream",
     "text": [
      "WARNING:absl:Compiled the loaded model, but the compiled metrics have yet to be built. `model.compile_metrics` will be empty until you train or evaluate the model.\n"
     ]
    },
    {
     "name": "stdout",
     "output_type": "stream",
     "text": [
      "Model loaded from: /Users/raghavgarg/Downloads/RESEARCH/RESNET50/DEPTH_512/RESNET_DEPTH_512.h5\n",
      "Found 1340 images belonging to 67 classes.\n",
      "\u001b[1m90/90\u001b[0m \u001b[32m━━━━━━━━━━━━━━━━━━━━\u001b[0m\u001b[37m\u001b[0m \u001b[1m195s\u001b[0m 2s/step\n",
      "\u001b[1m90/90\u001b[0m \u001b[32m━━━━━━━━━━━━━━━━━━━━\u001b[0m\u001b[37m\u001b[0m \u001b[1m201s\u001b[0m 2s/step - accuracy: 0.3330 - loss: 4.4806 - precision: 0.3775 - recall: 0.3085 - top_1_accuracy: 0.3330 - top_5_accuracy: 0.6585\n",
      "Test Loss: 4.610702991485596\n",
      "Test Accuracy: 0.34925374388694763\n",
      "Test Precision: 0.39652013778686523\n",
      "Test Recall: 0.32313433289527893\n",
      "Top-1 Accuracy: 0.34925374388694763\n",
      "Top-5 Accuracy: 0.6358209252357483\n",
      "F1 Score: 0.3465422001932115\n",
      "Sensitivity (Recall): 0.35096407115340583\n",
      "Specificity: 0.9901403074616018\n"
     ]
    }
   ],
   "source": [
    "# Load the model from the saved checkpoint\n",
    "model_path = '/Users/raghavgarg/Downloads/RESEARCH/RESNET50/DEPTH_512/RESNET_DEPTH_512.h5'  # Update the model path as needed\n",
    "model = keras.models.load_model(model_path)\n",
    "\n",
    "print(f\"Model loaded from: {model_path}\")\n",
    "# Test Data Evaluation\n",
    "test_generator = test_datagen.flow_from_directory(\n",
    "    test_data_path,\n",
    "    target_size=(512, 512),\n",
    "    batch_size=batch_size,\n",
    "    class_mode='categorical',\n",
    "    shuffle=False\n",
    ")\n",
    "\n",
    "# Make predictions on the test data\n",
    "y_pred = model.predict(test_generator)\n",
    "y_pred_labels = np.argmax(y_pred, axis=1)\n",
    "\n",
    "# Ground truth labels from the test generator\n",
    "y_true_labels = test_generator.classes\n",
    "\n",
    "# Calculate additional metrics like precision, recall, F1 score, etc.\n",
    "additional_metrics = calculate_metrics(y_true_labels, y_pred_labels)\n",
    "\n",
    "# Evaluate the model on test data to get Top-1 and Top-5 accuracy\n",
    "test_loss, test_accuracy, test_precision, test_recall, top_1_acc, top_5_acc = model.evaluate(test_generator)\n",
    "\n",
    "# Print the metrics\n",
    "print(f\"Test Loss: {test_loss}\")\n",
    "print(f\"Test Accuracy: {test_accuracy}\")\n",
    "print(f\"Test Precision: {test_precision}\")\n",
    "print(f\"Test Recall: {test_recall}\")\n",
    "print(f\"Top-1 Accuracy: {top_1_acc}\")\n",
    "print(f\"Top-5 Accuracy: {top_5_acc}\")\n",
    "print(f\"F1 Score: {additional_metrics['f1_score']}\")\n",
    "print(f\"Sensitivity (Recall): {additional_metrics['sensitivity']}\")\n",
    "print(f\"Specificity: {additional_metrics['specificity']}\")\n"
   ]
  },
  {
   "cell_type": "markdown",
   "id": "f359d845-efbb-4e69-a6fc-17ec6075514b",
   "metadata": {},
   "source": [
    "## RESNET GAP 512"
   ]
  },
  {
   "cell_type": "code",
   "execution_count": 39,
   "id": "b070742e-dbf2-47fc-aefe-eead43701d80",
   "metadata": {},
   "outputs": [
    {
     "name": "stderr",
     "output_type": "stream",
     "text": [
      "WARNING:absl:Compiled the loaded model, but the compiled metrics have yet to be built. `model.compile_metrics` will be empty until you train or evaluate the model.\n"
     ]
    },
    {
     "data": {
      "text/plain": [
       "23724995"
      ]
     },
     "execution_count": 39,
     "metadata": {},
     "output_type": "execute_result"
    }
   ],
   "source": [
    "# Load the model from the saved checkpoint\n",
    "model_path = '/Users/raghavgarg/Downloads/RESEARCH/RESNET50/GAP_512/RESNET_GAP_512.h5'  # Update the model path as needed\n",
    "model = keras.models.load_model(model_path)\n",
    "model.count_params()"
   ]
  },
  {
   "cell_type": "code",
   "execution_count": 23,
   "id": "4b859b9f-6560-4820-85cc-ca61a720bd7e",
   "metadata": {},
   "outputs": [
    {
     "name": "stderr",
     "output_type": "stream",
     "text": [
      "WARNING:absl:Compiled the loaded model, but the compiled metrics have yet to be built. `model.compile_metrics` will be empty until you train or evaluate the model.\n"
     ]
    },
    {
     "name": "stdout",
     "output_type": "stream",
     "text": [
      "Model loaded from: /Users/raghavgarg/Downloads/RESEARCH/RESNET50/GAP_512/RESNET_GAP_512.h5\n",
      "Found 1340 images belonging to 67 classes.\n"
     ]
    },
    {
     "name": "stderr",
     "output_type": "stream",
     "text": [
      "/opt/anaconda3/lib/python3.12/site-packages/keras/src/trainers/data_adapters/py_dataset_adapter.py:121: UserWarning: Your `PyDataset` class should call `super().__init__(**kwargs)` in its constructor. `**kwargs` can include `workers`, `use_multiprocessing`, `max_queue_size`. Do not pass these arguments to `fit()`, as they will be ignored.\n",
      "  self._warn_if_super_not_called()\n"
     ]
    },
    {
     "name": "stdout",
     "output_type": "stream",
     "text": [
      "\u001b[1m90/90\u001b[0m \u001b[32m━━━━━━━━━━━━━━━━━━━━\u001b[0m\u001b[37m\u001b[0m \u001b[1m211s\u001b[0m 2s/step\n",
      "\u001b[1m90/90\u001b[0m \u001b[32m━━━━━━━━━━━━━━━━━━━━\u001b[0m\u001b[37m\u001b[0m \u001b[1m213s\u001b[0m 2s/step - accuracy: 0.5508 - loss: 2.7776 - precision: 0.5857 - recall: 0.5334 - top_1_accuracy: 0.5508 - top_5_accuracy: 0.8294\n",
      "Test Loss: 2.7884583473205566\n",
      "Test Accuracy: 0.562686562538147\n",
      "Test Precision: 0.5995085835456848\n",
      "Test Recall: 0.5462686419487\n",
      "Top-1 Accuracy: 0.562686562538147\n",
      "Top-5 Accuracy: 0.8350746035575867\n",
      "F1 Score: 0.5613243917909959\n",
      "Sensitivity (Recall): 0.5644867107612943\n",
      "Specificity: 0.9933731487901257\n"
     ]
    }
   ],
   "source": [
    "# Load the model from the saved checkpoint\n",
    "model_path = '/Users/raghavgarg/Downloads/RESEARCH/RESNET50/GAP_512/RESNET_GAP_512.h5'  # Update the model path as needed\n",
    "model = keras.models.load_model(model_path)\n",
    "\n",
    "print(f\"Model loaded from: {model_path}\")\n",
    "batch_size = 15\n",
    "# Test Data Evaluation\n",
    "test_generator = test_datagen.flow_from_directory(\n",
    "    test_data_path,\n",
    "    target_size=(512, 512),\n",
    "    batch_size=batch_size,\n",
    "    class_mode='categorical',\n",
    "    shuffle=False\n",
    ")\n",
    "\n",
    "# Make predictions on the test data\n",
    "y_pred = model.predict(test_generator)\n",
    "y_pred_labels = np.argmax(y_pred, axis=1)\n",
    "\n",
    "# Ground truth labels from the test generator\n",
    "y_true_labels = test_generator.classes\n",
    "\n",
    "# Calculate additional metrics like precision, recall, F1 score, etc.\n",
    "additional_metrics = calculate_metrics(y_true_labels, y_pred_labels)\n",
    "\n",
    "# Evaluate the model on test data to get Top-1 and Top-5 accuracy\n",
    "test_loss, test_accuracy, test_precision, test_recall, top_1_acc, top_5_acc = model.evaluate(test_generator)\n",
    "\n",
    "# Print the metrics\n",
    "print(f\"Test Loss: {test_loss}\")\n",
    "print(f\"Test Accuracy: {test_accuracy}\")\n",
    "print(f\"Test Precision: {test_precision}\")\n",
    "print(f\"Test Recall: {test_recall}\")\n",
    "print(f\"Top-1 Accuracy: {top_1_acc}\")\n",
    "print(f\"Top-5 Accuracy: {top_5_acc}\")\n",
    "print(f\"F1 Score: {additional_metrics['f1_score']}\")\n",
    "print(f\"Sensitivity (Recall): {additional_metrics['sensitivity']}\")\n",
    "print(f\"Specificity: {additional_metrics['specificity']}\")\n"
   ]
  },
  {
   "cell_type": "markdown",
   "id": "4b4dba5a-a5c9-45ed-9c19-ae3370683a7d",
   "metadata": {},
   "source": [
    "## XCEPTION AVG DENSE 512"
   ]
  },
  {
   "cell_type": "code",
   "execution_count": 40,
   "id": "e3e2f7f7-5ba1-44a9-8d14-0a7a33281673",
   "metadata": {},
   "outputs": [
    {
     "name": "stderr",
     "output_type": "stream",
     "text": [
      "WARNING:absl:Compiled the loaded model, but the compiled metrics have yet to be built. `model.compile_metrics` will be empty until you train or evaluate the model.\n"
     ]
    },
    {
     "data": {
      "text/plain": [
       "21052011"
      ]
     },
     "execution_count": 40,
     "metadata": {},
     "output_type": "execute_result"
    }
   ],
   "source": [
    "# Load the model from the saved checkpoint\n",
    "model_path = '/Users/raghavgarg/Downloads/RESEARCH/XCEPTIONNET/AVG_DEPTH_512/Xception_avg_depthw_constraints_512.h5'  # Update the model path as needed\n",
    "model = keras.models.load_model(model_path)\n",
    "model.count_params()"
   ]
  },
  {
   "cell_type": "code",
   "execution_count": 24,
   "id": "31e6d242-8ef2-4896-a34c-b58fbccd38b6",
   "metadata": {},
   "outputs": [
    {
     "name": "stderr",
     "output_type": "stream",
     "text": [
      "WARNING:absl:Compiled the loaded model, but the compiled metrics have yet to be built. `model.compile_metrics` will be empty until you train or evaluate the model.\n"
     ]
    },
    {
     "name": "stdout",
     "output_type": "stream",
     "text": [
      "Model loaded from: /Users/raghavgarg/Downloads/RESEARCH/XCEPTIONNET/AVG_DEPTH_512/Xception_avg_depthw_constraints_512.h5\n",
      "Found 1340 images belonging to 67 classes.\n"
     ]
    },
    {
     "name": "stderr",
     "output_type": "stream",
     "text": [
      "/opt/anaconda3/lib/python3.12/site-packages/keras/src/trainers/data_adapters/py_dataset_adapter.py:121: UserWarning: Your `PyDataset` class should call `super().__init__(**kwargs)` in its constructor. `**kwargs` can include `workers`, `use_multiprocessing`, `max_queue_size`. Do not pass these arguments to `fit()`, as they will be ignored.\n",
      "  self._warn_if_super_not_called()\n"
     ]
    },
    {
     "name": "stdout",
     "output_type": "stream",
     "text": [
      "\u001b[1m90/90\u001b[0m \u001b[32m━━━━━━━━━━━━━━━━━━━━\u001b[0m\u001b[37m\u001b[0m \u001b[1m264s\u001b[0m 3s/step\n",
      "\u001b[1m90/90\u001b[0m \u001b[32m━━━━━━━━━━━━━━━━━━━━\u001b[0m\u001b[37m\u001b[0m \u001b[1m261s\u001b[0m 3s/step - accuracy: 0.6883 - loss: 1.6564 - precision: 0.7185 - recall: 0.6764 - top_1_accuracy: 0.6883 - top_5_accuracy: 0.9262\n",
      "Test Loss: 1.6081353425979614\n",
      "Test Accuracy: 0.7149253487586975\n",
      "Test Precision: 0.7405660152435303\n",
      "Test Recall: 0.7029850482940674\n",
      "Top-1 Accuracy: 0.7149253487586975\n",
      "Top-5 Accuracy: 0.9268656969070435\n",
      "F1 Score: 0.7100891171001605\n",
      "Sensitivity (Recall): 0.715295275340419\n",
      "Specificity: 0.9956809730829879\n"
     ]
    }
   ],
   "source": [
    "# Load the model from the saved checkpoint\n",
    "model_path = '/Users/raghavgarg/Downloads/RESEARCH/XCEPTIONNET/AVG_DEPTH_512/Xception_avg_depthw_constraints_512.h5'  # Update the model path as needed\n",
    "model = keras.models.load_model(model_path)\n",
    "\n",
    "print(f\"Model loaded from: {model_path}\")\n",
    "batch_size=15\n",
    "# Test Data Evaluation\n",
    "test_generator = test_datagen.flow_from_directory(\n",
    "    test_data_path,\n",
    "    target_size=(512, 512),\n",
    "    batch_size=batch_size,\n",
    "    class_mode='categorical',\n",
    "    shuffle=False\n",
    ")\n",
    "\n",
    "# Make predictions on the test data\n",
    "y_pred = model.predict(test_generator)\n",
    "y_pred_labels = np.argmax(y_pred, axis=1)\n",
    "\n",
    "# Ground truth labels from the test generator\n",
    "y_true_labels = test_generator.classes\n",
    "\n",
    "# Calculate additional metrics like precision, recall, F1 score, etc.\n",
    "additional_metrics = calculate_metrics(y_true_labels, y_pred_labels)\n",
    "\n",
    "# Evaluate the model on test data to get Top-1 and Top-5 accuracy\n",
    "test_loss, test_accuracy, test_precision, test_recall, top_1_acc, top_5_acc = model.evaluate(test_generator)\n",
    "\n",
    "# Print the metrics\n",
    "print(f\"Test Loss: {test_loss}\")\n",
    "print(f\"Test Accuracy: {test_accuracy}\")\n",
    "print(f\"Test Precision: {test_precision}\")\n",
    "print(f\"Test Recall: {test_recall}\")\n",
    "print(f\"Top-1 Accuracy: {top_1_acc}\")\n",
    "print(f\"Top-5 Accuracy: {top_5_acc}\")\n",
    "print(f\"F1 Score: {additional_metrics['f1_score']}\")\n",
    "print(f\"Sensitivity (Recall): {additional_metrics['sensitivity']}\")\n",
    "print(f\"Specificity: {additional_metrics['specificity']}\")\n"
   ]
  },
  {
   "cell_type": "markdown",
   "id": "6ae97a10-ff83-47f7-ad66-f8280e91a4dc",
   "metadata": {},
   "source": [
    "## XCEPTION DENSE 512"
   ]
  },
  {
   "cell_type": "code",
   "execution_count": 41,
   "id": "8dc547b0-4c0c-4048-8d33-b23d74e83035",
   "metadata": {},
   "outputs": [
    {
     "name": "stderr",
     "output_type": "stream",
     "text": [
      "WARNING:absl:Compiled the loaded model, but the compiled metrics have yet to be built. `model.compile_metrics` will be empty until you train or evaluate the model.\n"
     ]
    },
    {
     "data": {
      "text/plain": [
       "21525099"
      ]
     },
     "execution_count": 41,
     "metadata": {},
     "output_type": "execute_result"
    }
   ],
   "source": [
    "# Load the model from the saved checkpoint\n",
    "model_path = '/Users/raghavgarg/Downloads/RESEARCH/XCEPTIONNET/DEPTH_512/XCEP_DEPTH_512.h5'  # Update the model path as needed\n",
    "model = keras.models.load_model(model_path)\n",
    "model.count_params()"
   ]
  },
  {
   "cell_type": "code",
   "execution_count": 25,
   "id": "2d787f4d-a62e-46d3-960b-dedeaeb78c67",
   "metadata": {},
   "outputs": [
    {
     "name": "stderr",
     "output_type": "stream",
     "text": [
      "WARNING:absl:Compiled the loaded model, but the compiled metrics have yet to be built. `model.compile_metrics` will be empty until you train or evaluate the model.\n"
     ]
    },
    {
     "name": "stdout",
     "output_type": "stream",
     "text": [
      "Model loaded from: /Users/raghavgarg/Downloads/RESEARCH/XCEPTIONNET/DEPTH_512/XCEP_DEPTH_512.h5\n",
      "Found 1340 images belonging to 67 classes.\n"
     ]
    },
    {
     "name": "stderr",
     "output_type": "stream",
     "text": [
      "/opt/anaconda3/lib/python3.12/site-packages/keras/src/trainers/data_adapters/py_dataset_adapter.py:121: UserWarning: Your `PyDataset` class should call `super().__init__(**kwargs)` in its constructor. `**kwargs` can include `workers`, `use_multiprocessing`, `max_queue_size`. Do not pass these arguments to `fit()`, as they will be ignored.\n",
      "  self._warn_if_super_not_called()\n"
     ]
    },
    {
     "name": "stdout",
     "output_type": "stream",
     "text": [
      "\u001b[1m90/90\u001b[0m \u001b[32m━━━━━━━━━━━━━━━━━━━━\u001b[0m\u001b[37m\u001b[0m \u001b[1m263s\u001b[0m 3s/step\n",
      "\u001b[1m90/90\u001b[0m \u001b[32m━━━━━━━━━━━━━━━━━━━━\u001b[0m\u001b[37m\u001b[0m \u001b[1m261s\u001b[0m 3s/step - accuracy: 0.7038 - loss: 1.9226 - precision: 0.7150 - recall: 0.6908 - top_1_accuracy: 0.7038 - top_5_accuracy: 0.9231\n",
      "Test Loss: 1.8237414360046387\n",
      "Test Accuracy: 0.7164179086685181\n",
      "Test Precision: 0.7320463061332703\n",
      "Test Recall: 0.7074626684188843\n",
      "Top-1 Accuracy: 0.7164179086685181\n",
      "Top-5 Accuracy: 0.9305970072746277\n",
      "F1 Score: 0.712886802467402\n",
      "Sensitivity (Recall): 0.7170962746037634\n",
      "Specificity: 0.9957029705313615\n"
     ]
    }
   ],
   "source": [
    "# Load the model from the saved checkpoint\n",
    "model_path = '/Users/raghavgarg/Downloads/RESEARCH/XCEPTIONNET/DEPTH_512/XCEP_DEPTH_512.h5'  # Update the model path as needed\n",
    "model = keras.models.load_model(model_path)\n",
    "\n",
    "print(f\"Model loaded from: {model_path}\")\n",
    "batch_size=15\n",
    "# Test Data Evaluation\n",
    "test_generator = test_datagen.flow_from_directory(\n",
    "    test_data_path,\n",
    "    target_size=(512, 512),\n",
    "    batch_size=batch_size,\n",
    "    class_mode='categorical',\n",
    "    shuffle=False\n",
    ")\n",
    "\n",
    "# Make predictions on the test data\n",
    "y_pred = model.predict(test_generator)\n",
    "y_pred_labels = np.argmax(y_pred, axis=1)\n",
    "\n",
    "# Ground truth labels from the test generator\n",
    "y_true_labels = test_generator.classes\n",
    "\n",
    "# Calculate additional metrics like precision, recall, F1 score, etc.\n",
    "additional_metrics = calculate_metrics(y_true_labels, y_pred_labels)\n",
    "\n",
    "# Evaluate the model on test data to get Top-1 and Top-5 accuracy\n",
    "test_loss, test_accuracy, test_precision, test_recall, top_1_acc, top_5_acc = model.evaluate(test_generator)\n",
    "\n",
    "# Print the metrics\n",
    "print(f\"Test Loss: {test_loss}\")\n",
    "print(f\"Test Accuracy: {test_accuracy}\")\n",
    "print(f\"Test Precision: {test_precision}\")\n",
    "print(f\"Test Recall: {test_recall}\")\n",
    "print(f\"Top-1 Accuracy: {top_1_acc}\")\n",
    "print(f\"Top-5 Accuracy: {top_5_acc}\")\n",
    "print(f\"F1 Score: {additional_metrics['f1_score']}\")\n",
    "print(f\"Sensitivity (Recall): {additional_metrics['sensitivity']}\")\n",
    "print(f\"Specificity: {additional_metrics['specificity']}\")\n"
   ]
  },
  {
   "cell_type": "markdown",
   "id": "baab1d87-a311-4327-a219-26b94f462701",
   "metadata": {},
   "source": [
    "## XCEPTION GAP 512"
   ]
  },
  {
   "cell_type": "code",
   "execution_count": 42,
   "id": "e05a4dcd-2970-4720-a791-638b5c10d505",
   "metadata": {},
   "outputs": [
    {
     "name": "stderr",
     "output_type": "stream",
     "text": [
      "WARNING:absl:Compiled the loaded model, but the compiled metrics have yet to be built. `model.compile_metrics` will be empty until you train or evaluate the model.\n"
     ]
    },
    {
     "data": {
      "text/plain": [
       "20998763"
      ]
     },
     "execution_count": 42,
     "metadata": {},
     "output_type": "execute_result"
    }
   ],
   "source": [
    "# Load the model from the saved checkpoint\n",
    "model_path = '/Users/raghavgarg/Downloads/RESEARCH/XCEPTIONNET/GAP_512/XCEP_GAP_512.h5'  # Update the model path as needed\n",
    "model = keras.models.load_model(model_path)\n",
    "model.count_params()"
   ]
  },
  {
   "cell_type": "code",
   "execution_count": 27,
   "id": "c1b398d2-1715-4b1a-9c8f-551a060dabef",
   "metadata": {},
   "outputs": [
    {
     "name": "stderr",
     "output_type": "stream",
     "text": [
      "WARNING:absl:Compiled the loaded model, but the compiled metrics have yet to be built. `model.compile_metrics` will be empty until you train or evaluate the model.\n"
     ]
    },
    {
     "name": "stdout",
     "output_type": "stream",
     "text": [
      "Model loaded from: /Users/raghavgarg/Downloads/RESEARCH/XCEPTIONNET/GAP_512/XCEP_GAP_512.h5\n",
      "Found 1340 images belonging to 67 classes.\n",
      "\u001b[1m90/90\u001b[0m \u001b[32m━━━━━━━━━━━━━━━━━━━━\u001b[0m\u001b[37m\u001b[0m \u001b[1m264s\u001b[0m 3s/step\n",
      "\u001b[1m90/90\u001b[0m \u001b[32m━━━━━━━━━━━━━━━━━━━━\u001b[0m\u001b[37m\u001b[0m \u001b[1m267s\u001b[0m 3s/step - accuracy: 0.0134 - loss: 4.1996 - precision: 0.0000e+00 - recall: 0.0000e+00 - top_1_accuracy: 0.0134 - top_5_accuracy: 0.1159\n",
      "Test Loss: 4.206086158752441\n",
      "Test Accuracy: 0.01268656738102436\n",
      "Test Precision: 0.0\n",
      "Test Recall: 0.0\n",
      "Top-1 Accuracy: 0.01268656738102436\n",
      "Top-5 Accuracy: 0.06641791015863419\n",
      "F1 Score: 0.0003739592384430097\n",
      "Sensitivity (Recall): 0.014925373134328358\n",
      "Specificity: 0.9850746268656716\n"
     ]
    }
   ],
   "source": [
    "# Load the model from the saved checkpoint\n",
    "model_path = '/Users/raghavgarg/Downloads/RESEARCH/XCEPTIONNET/GAP_512/XCEP_GAP_512.h5'  # Update the model path as needed\n",
    "model = keras.models.load_model(model_path)\n",
    "\n",
    "print(f\"Model loaded from: {model_path}\")\n",
    "# Test Data Evaluation\n",
    "test_generator = test_datagen.flow_from_directory(\n",
    "    test_data_path,\n",
    "    target_size=(512, 512),\n",
    "    batch_size=batch_size,\n",
    "    class_mode='categorical',\n",
    "    shuffle=False\n",
    ")\n",
    "\n",
    "# Make predictions on the test data\n",
    "y_pred = model.predict(test_generator)\n",
    "y_pred_labels = np.argmax(y_pred, axis=1)\n",
    "\n",
    "# Ground truth labels from the test generator\n",
    "y_true_labels = test_generator.classes\n",
    "\n",
    "# Calculate additional metrics like precision, recall, F1 score, etc.\n",
    "additional_metrics = calculate_metrics(y_true_labels, y_pred_labels)\n",
    "\n",
    "# Evaluate the model on test data to get Top-1 and Top-5 accuracy\n",
    "test_loss, test_accuracy, test_precision, test_recall, top_1_acc, top_5_acc = model.evaluate(test_generator)\n",
    "\n",
    "# Print the metrics\n",
    "print(f\"Test Loss: {test_loss}\")\n",
    "print(f\"Test Accuracy: {test_accuracy}\")\n",
    "print(f\"Test Precision: {test_precision}\")\n",
    "print(f\"Test Recall: {test_recall}\")\n",
    "print(f\"Top-1 Accuracy: {top_1_acc}\")\n",
    "print(f\"Top-5 Accuracy: {top_5_acc}\")\n",
    "print(f\"F1 Score: {additional_metrics['f1_score']}\")\n",
    "print(f\"Sensitivity (Recall): {additional_metrics['sensitivity']}\")\n",
    "print(f\"Specificity: {additional_metrics['specificity']}\")\n"
   ]
  },
  {
   "cell_type": "code",
   "execution_count": 1,
   "id": "f986be66-f466-4a2a-82bb-ea8785ad007f",
   "metadata": {
    "scrolled": true
   },
   "outputs": [
    {
     "data": {
      "image/png": "[encoded data removed]",
      "text/plain": [
       "<Figure size 1000x1500 with 1 Axes>"
      ]
     },
     "metadata": {},
     "output_type": "display_data"
    }
   ],
   "source": [
    "import os\n",
    "import matplotlib.pyplot as plt\n",
    "import numpy as np\n",
    "\n",
    "# Paths to train and validation directories\n",
    "train_path = \"/Users/raghavgarg/Downloads/split_data/train/\"\n",
    "validation_path = \"/Users/raghavgarg/Downloads/split_data/validation/\"\n",
    "\n",
    "# Function to count images in each class folder\n",
    "def count_images_in_folders(base_path):\n",
    "    class_counts = {}\n",
    "    for class_folder in os.listdir(base_path):\n",
    "        class_folder_path = os.path.join(base_path, class_folder)\n",
    "        if os.path.isdir(class_folder_path):  # Ensure it's a folder\n",
    "            class_counts[class_folder] = len(os.listdir(class_folder_path))\n",
    "    return class_counts\n",
    "\n",
    "# Count images for training and validation sets\n",
    "train_counts = count_images_in_folders(train_path)\n",
    "validation_counts = count_images_in_folders(validation_path)\n",
    "\n",
    "# Ensure the order of classes is consistent\n",
    "classes = sorted(train_counts.keys())  # Assuming classes are the same for train and validation\n",
    "training_counts = [train_counts.get(cls, 0) for cls in classes]\n",
    "validation_counts = [validation_counts.get(cls, 0) for cls in classes]\n",
    "\n",
    "# Plotting\n",
    "fig, ax = plt.subplots(figsize=(10, 15))\n",
    "bar_width = 0.4\n",
    "y_positions = np.arange(len(classes))\n",
    "\n",
    "ax.barh(y_positions, training_counts, height=bar_width, label='Training', color='navy')\n",
    "ax.barh(y_positions + bar_width, validation_counts, height=bar_width, label='Validation', color='orange')\n",
    "\n",
    "# Formatting\n",
    "ax.set_yticks(y_positions + bar_width / 2)\n",
    "ax.set_yticklabels(classes, fontsize=8)\n",
    "ax.set_xlabel('Count', fontsize=12)\n",
    "ax.set_title('Class Distribution in MIT Dataset', fontsize=14)\n",
    "ax.legend()\n",
    "\n",
    "# Adjust layout for better viewing\n",
    "plt.tight_layout()\n",
    "plt.show()\n"
   ]
  },
  {
   "cell_type": "code",
   "execution_count": 2,
   "id": "dd344b1c-a6f0-458f-bb74-5e806169f934",
   "metadata": {
    "scrolled": true
   },
   "outputs": [
    {
     "data": {
      "image/png": "[encoded data removed]",
      "text/plain": [
       "<Figure size 1000x1500 with 2 Axes>"
      ]
     },
     "metadata": {},
     "output_type": "display_data"
    }
   ],
   "source": [
    "import seaborn as sns\n",
    "import pandas as pd\n",
    "\n",
    "# Create a DataFrame for counts\n",
    "data = {'Class': classes, 'Training': training_counts, 'Validation': validation_counts}\n",
    "df = pd.DataFrame(data)\n",
    "\n",
    "# Plot Heatmap\n",
    "plt.figure(figsize=(10, 15))\n",
    "sns.heatmap(df.set_index('Class'), annot=True, fmt='d', cmap='coolwarm', cbar_kws={'label': 'Image Count'})\n",
    "plt.title('Class Distribution Heatmap for MIT Dataset')\n",
    "plt.xlabel('Dataset')\n",
    "plt.ylabel('Classes')\n",
    "plt.tight_layout()\n",
    "plt.show()\n"
   ]
  },
  {
   "cell_type": "code",
   "execution_count": 4,
   "id": "817ffafa-5733-42ad-ab9f-b4738f795c54",
   "metadata": {},
   "outputs": [
    {
     "name": "stdout",
     "output_type": "stream",
     "text": [
      "Training Dataset:\n",
      "Class with minimum images: restaurant_kitchen (77 images)\n",
      "Class with maximum images: fastfood_restaurant (83 images)\n",
      "Total images: 5360\n",
      "\n",
      "Validation Dataset:\n",
      "Class with minimum images: greenhouse (1 images)\n",
      "Class with maximum images: kitchen (632 images)\n",
      "Total images: 8914\n"
     ]
    }
   ],
   "source": [
    "import os\n",
    "\n",
    "def get_dataset_stats(directory):\n",
    "    class_counts = {}\n",
    "    total_images = 0  # Initialize total image counter\n",
    "\n",
    "    # Loop through each class folder in the directory\n",
    "    for class_name in os.listdir(directory):\n",
    "        class_path = os.path.join(directory, class_name)\n",
    "        if os.path.isdir(class_path):  # Check if it's a folder\n",
    "            image_count = len(os.listdir(class_path))  # Count files in the folder\n",
    "            class_counts[class_name] = image_count\n",
    "            total_images += image_count  # Add to the total count\n",
    "\n",
    "    # Get the class with min and max images\n",
    "    min_class = min(class_counts, key=class_counts.get)\n",
    "    max_class = max(class_counts, key=class_counts.get)\n",
    "\n",
    "    return {\n",
    "        \"min\": (min_class, class_counts[min_class]),\n",
    "        \"max\": (max_class, class_counts[max_class]),\n",
    "        \"total\": total_images\n",
    "    }\n",
    "\n",
    "# Paths to train and validation directories\n",
    "train_dir = \"/Users/raghavgarg/Downloads/split_data/train/\"\n",
    "validation_dir = \"/Users/raghavgarg/Downloads/split_data/validation/\"\n",
    "\n",
    "# Get stats for training and validation datasets\n",
    "train_stats = get_dataset_stats(train_dir)\n",
    "validation_stats = get_dataset_stats(validation_dir)\n",
    "\n",
    "# Print results\n",
    "print(\"Training Dataset:\")\n",
    "print(f\"Class with minimum images: {train_stats['min'][0]} ({train_stats['min'][1]} images)\")\n",
    "print(f\"Class with maximum images: {train_stats['max'][0]} ({train_stats['max'][1]} images)\")\n",
    "print(f\"Total images: {train_stats['total']}\")\n",
    "\n",
    "print(\"\\nValidation Dataset:\")\n",
    "print(f\"Class with minimum images: {validation_stats['min'][0]} ({validation_stats['min'][1]} images)\")\n",
    "print(f\"Class with maximum images: {validation_stats['max'][0]} ({validation_stats['max'][1]} images)\")\n",
    "print(f\"Total images: {validation_stats['total']}\")\n"
   ]
  },
  {
   "cell_type": "code",
   "execution_count": 5,
   "id": "528f32b3-1667-44a6-8025-4cee0ed26619",
   "metadata": {},
   "outputs": [
    {
     "name": "stdout",
     "output_type": "stream",
     "text": [
      "Image Dimensions: 500 x 368\n"
     ]
    }
   ],
   "source": [
    "from PIL import Image\n",
    "\n",
    "# Open an image file\n",
    "image = Image.open('/Users/raghavgarg/Downloads/split_data/train/airport_inside/airport_inside_0001.jpg')\n",
    "\n",
    "# Get the image dimensions (width, height)\n",
    "width, height = image.size\n",
    "\n",
    "# Print the dimensions\n",
    "print(f\"Image Dimensions: {width} x {height}\")\n"
   ]
  },
  {
   "cell_type": "code",
   "execution_count": 6,
   "id": "186f8c27-728f-4729-b5d0-e61f3fb82367",
   "metadata": {},
   "outputs": [
    {
     "name": "stdout",
     "output_type": "stream",
     "text": [
      "Image Dimensions: 300 x 230\n"
     ]
    }
   ],
   "source": [
    "from PIL import Image\n",
    "\n",
    "# Open an image file\n",
    "image = Image.open('/Users/raghavgarg/Downloads/split_data/train/airport_inside/airport_inside_0008.jpg')\n",
    "\n",
    "# Get the image dimensions (width, height)\n",
    "width, height = image.size\n",
    "\n",
    "# Print the dimensions\n",
    "print(f\"Image Dimensions: {width} x {height}\")\n"
   ]
  },
  {
   "cell_type": "code",
   "execution_count": null,
   "id": "45320f80-ef4e-4f55-a2b8-b9acafb1c7cd",
   "metadata": {},
   "outputs": [],
   "source": []
  }
 ],
 "metadata": {
  "kernelspec": {
   "display_name": "Python (base)",
   "language": "python",
   "name": "base"
  },
  "language_info": {
   "codemirror_mode": {
    "name": "ipython",
    "version": 3
   },
   "file_extension": ".py",
   "mimetype": "text/x-python",
   "name": "python",
   "nbconvert_exporter": "python",
   "pygments_lexer": "ipython3",
   "version": "3.12.4"
  }
 },
 "nbformat": 4,
 "nbformat_minor": 5
}
